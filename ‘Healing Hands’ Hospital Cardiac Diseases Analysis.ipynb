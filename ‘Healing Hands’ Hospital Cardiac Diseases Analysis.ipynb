{
 "cells": [
  {
   "cell_type": "code",
   "execution_count": 1,
   "id": "757d6720",
   "metadata": {},
   "outputs": [],
   "source": [
    "import pandas as pd\n",
    "import numpy as np\n",
    "import matplotlib.pyplot as plt\n",
    "import seaborn as sns"
   ]
  },
  {
   "cell_type": "code",
   "execution_count": 2,
   "id": "8945f552",
   "metadata": {},
   "outputs": [],
   "source": [
    "df=pd.read_csv(\"cardio_train_data.csv\")"
   ]
  },
  {
   "cell_type": "code",
   "execution_count": 3,
   "id": "4d7a6008",
   "metadata": {
    "scrolled": true
   },
   "outputs": [
    {
     "data": {
      "text/html": [
       "<div>\n",
       "<style scoped>\n",
       "    .dataframe tbody tr th:only-of-type {\n",
       "        vertical-align: middle;\n",
       "    }\n",
       "\n",
       "    .dataframe tbody tr th {\n",
       "        vertical-align: top;\n",
       "    }\n",
       "\n",
       "    .dataframe thead th {\n",
       "        text-align: right;\n",
       "    }\n",
       "</style>\n",
       "<table border=\"1\" class=\"dataframe\">\n",
       "  <thead>\n",
       "    <tr style=\"text-align: right;\">\n",
       "      <th></th>\n",
       "      <th>id</th>\n",
       "      <th>age</th>\n",
       "      <th>gender</th>\n",
       "      <th>height</th>\n",
       "      <th>weight</th>\n",
       "      <th>ap_hi</th>\n",
       "      <th>ap_lo</th>\n",
       "      <th>cholesterol</th>\n",
       "      <th>gluc</th>\n",
       "      <th>smoke</th>\n",
       "      <th>alco</th>\n",
       "      <th>active</th>\n",
       "      <th>cardio</th>\n",
       "    </tr>\n",
       "  </thead>\n",
       "  <tbody>\n",
       "    <tr>\n",
       "      <th>0</th>\n",
       "      <td>0</td>\n",
       "      <td>18393</td>\n",
       "      <td>2</td>\n",
       "      <td>168</td>\n",
       "      <td>62.0</td>\n",
       "      <td>110</td>\n",
       "      <td>80</td>\n",
       "      <td>1</td>\n",
       "      <td>1</td>\n",
       "      <td>0</td>\n",
       "      <td>0</td>\n",
       "      <td>1</td>\n",
       "      <td>0</td>\n",
       "    </tr>\n",
       "    <tr>\n",
       "      <th>1</th>\n",
       "      <td>1</td>\n",
       "      <td>20228</td>\n",
       "      <td>1</td>\n",
       "      <td>156</td>\n",
       "      <td>85.0</td>\n",
       "      <td>140</td>\n",
       "      <td>90</td>\n",
       "      <td>3</td>\n",
       "      <td>1</td>\n",
       "      <td>0</td>\n",
       "      <td>0</td>\n",
       "      <td>1</td>\n",
       "      <td>1</td>\n",
       "    </tr>\n",
       "    <tr>\n",
       "      <th>2</th>\n",
       "      <td>2</td>\n",
       "      <td>18857</td>\n",
       "      <td>1</td>\n",
       "      <td>165</td>\n",
       "      <td>64.0</td>\n",
       "      <td>130</td>\n",
       "      <td>70</td>\n",
       "      <td>3</td>\n",
       "      <td>1</td>\n",
       "      <td>0</td>\n",
       "      <td>0</td>\n",
       "      <td>0</td>\n",
       "      <td>1</td>\n",
       "    </tr>\n",
       "    <tr>\n",
       "      <th>3</th>\n",
       "      <td>3</td>\n",
       "      <td>17623</td>\n",
       "      <td>2</td>\n",
       "      <td>169</td>\n",
       "      <td>82.0</td>\n",
       "      <td>150</td>\n",
       "      <td>100</td>\n",
       "      <td>1</td>\n",
       "      <td>1</td>\n",
       "      <td>0</td>\n",
       "      <td>0</td>\n",
       "      <td>1</td>\n",
       "      <td>1</td>\n",
       "    </tr>\n",
       "    <tr>\n",
       "      <th>4</th>\n",
       "      <td>4</td>\n",
       "      <td>17474</td>\n",
       "      <td>1</td>\n",
       "      <td>156</td>\n",
       "      <td>56.0</td>\n",
       "      <td>100</td>\n",
       "      <td>60</td>\n",
       "      <td>1</td>\n",
       "      <td>1</td>\n",
       "      <td>0</td>\n",
       "      <td>0</td>\n",
       "      <td>0</td>\n",
       "      <td>0</td>\n",
       "    </tr>\n",
       "  </tbody>\n",
       "</table>\n",
       "</div>"
      ],
      "text/plain": [
       "   id    age  gender  height  weight  ap_hi  ap_lo  cholesterol  gluc  smoke  \\\n",
       "0   0  18393       2     168    62.0    110     80            1     1      0   \n",
       "1   1  20228       1     156    85.0    140     90            3     1      0   \n",
       "2   2  18857       1     165    64.0    130     70            3     1      0   \n",
       "3   3  17623       2     169    82.0    150    100            1     1      0   \n",
       "4   4  17474       1     156    56.0    100     60            1     1      0   \n",
       "\n",
       "   alco  active  cardio  \n",
       "0     0       1       0  \n",
       "1     0       1       1  \n",
       "2     0       0       1  \n",
       "3     0       1       1  \n",
       "4     0       0       0  "
      ]
     },
     "execution_count": 3,
     "metadata": {},
     "output_type": "execute_result"
    }
   ],
   "source": [
    "df.head()"
   ]
  },
  {
   "cell_type": "markdown",
   "id": "843e2022",
   "metadata": {},
   "source": [
    "# <h2>Basic Information About Data</h2>"
   ]
  },
  {
   "cell_type": "code",
   "execution_count": null,
   "id": "233bd24e",
   "metadata": {},
   "outputs": [],
   "source": [
    "print(\"Total Rows and Columns:\")\n",
    "print(f\"Number of rows: {df.shape[0]}\")\n",
    "print(f\"Number of columns: {df.shape[1]}\")"
   ]
  },
  {
   "cell_type": "code",
   "execution_count": null,
   "id": "85c07fb0",
   "metadata": {},
   "outputs": [],
   "source": [
    "#information about columns\n",
    "df.info()"
   ]
  },
  {
   "cell_type": "code",
   "execution_count": null,
   "id": "96e68128",
   "metadata": {},
   "outputs": [],
   "source": [
    "#checking null values\n",
    "df.isnull().sum()"
   ]
  },
  {
   "cell_type": "code",
   "execution_count": null,
   "id": "2c9a9cfb",
   "metadata": {},
   "outputs": [],
   "source": [
    "sns.heatmap(df.isnull())\n",
    "plt.show()"
   ]
  },
  {
   "cell_type": "code",
   "execution_count": null,
   "id": "0bef0190",
   "metadata": {},
   "outputs": [],
   "source": [
    "df.describe()"
   ]
  },
  {
   "cell_type": "code",
   "execution_count": null,
   "id": "b0e201f1",
   "metadata": {},
   "outputs": [],
   "source": [
    "#find the correlation between the variables\n",
    "sns.heatmap(df.corr())\n",
    "plt.show()"
   ]
  },
  {
   "cell_type": "code",
   "execution_count": null,
   "id": "81ce7dc5",
   "metadata": {},
   "outputs": [],
   "source": [
    "#checking outliers for weight\n",
    "sns.boxplot(df.weight)\n",
    "plt.show()"
   ]
  },
  {
   "cell_type": "code",
   "execution_count": null,
   "id": "d4dd9eea",
   "metadata": {
    "scrolled": false
   },
   "outputs": [],
   "source": [
    "#checking the outliers for height\n",
    "sns.boxplot(df.height)\n",
    "plt.show()"
   ]
  },
  {
   "cell_type": "code",
   "execution_count": null,
   "id": "0bf074c5",
   "metadata": {},
   "outputs": [],
   "source": []
  },
  {
   "cell_type": "markdown",
   "id": "5ddf81cf",
   "metadata": {},
   "source": [
    "# EDA (Exploratory Data Analysis)"
   ]
  },
  {
   "cell_type": "markdown",
   "id": "b5aace08",
   "metadata": {},
   "source": [
    "# <h4>\n",
    "1. Patients with cardiac diseases,find the difference and percentage ratio between male and female.\n",
    "    \n",
    "2. Find the correlation between ap_hi and ap_low for both the gender with scatter plot\n",
    "    \n",
    "3. Finds which age group has more affected by cardiac disease.\n",
    "    \n",
    "4. Find the percentage of patients having cardiovascular disorder with ap\\_hi and weight more than their respective means and      write your conclusion about it. \n",
    "   Does high ap\\_hi and high weight play an important role for cardiac health?\n",
    "    \n",
    "5. Which cholesterol level has the highest cardiac disease patients and also find the \n",
    "   percentage of male and females in all the categories.\n",
    "    \n",
    "6. Find the percentage of the patients having cardiac disorders with age greater than 45?\n",
    "   what are the factors affecting heart health which needs to be taken care about?\n",
    "   What are the factors or information of the first screening which helps us understand that the patient might\n",
    "   have a heart disease?\n",
    "    \n",
    "7. Make the groups of height and weight:  \n",
    "   Find which category has the highest percentage of cardiac disease patients?\n",
    "    a. short height and less weight\n",
    "    b. big height and more weight\n",
    "    c. short height and more weight\n",
    "    d. big height and less weight\n",
    "\n",
    "8. Do univariate and bivariate analysis\n",
    "</h4>"
   ]
  },
  {
   "cell_type": "code",
   "execution_count": null,
   "id": "708162ff",
   "metadata": {},
   "outputs": [],
   "source": []
  },
  {
   "cell_type": "markdown",
   "id": "7c46a57d",
   "metadata": {},
   "source": [
    "# <h3> <center>Cardiac Disorders Patients Data Analysis</center></h3>"
   ]
  },
  {
   "cell_type": "code",
   "execution_count": 5,
   "id": "46a68c7c",
   "metadata": {},
   "outputs": [
    {
     "data": {
      "text/html": [
       "<div>\n",
       "<style scoped>\n",
       "    .dataframe tbody tr th:only-of-type {\n",
       "        vertical-align: middle;\n",
       "    }\n",
       "\n",
       "    .dataframe tbody tr th {\n",
       "        vertical-align: top;\n",
       "    }\n",
       "\n",
       "    .dataframe thead th {\n",
       "        text-align: right;\n",
       "    }\n",
       "</style>\n",
       "<table border=\"1\" class=\"dataframe\">\n",
       "  <thead>\n",
       "    <tr style=\"text-align: right;\">\n",
       "      <th></th>\n",
       "      <th>id</th>\n",
       "      <th>age</th>\n",
       "      <th>gender</th>\n",
       "      <th>height</th>\n",
       "      <th>weight</th>\n",
       "      <th>ap_hi</th>\n",
       "      <th>ap_lo</th>\n",
       "      <th>cholesterol</th>\n",
       "      <th>gluc</th>\n",
       "      <th>smoke</th>\n",
       "      <th>alco</th>\n",
       "      <th>active</th>\n",
       "      <th>cardio</th>\n",
       "    </tr>\n",
       "  </thead>\n",
       "  <tbody>\n",
       "    <tr>\n",
       "      <th>0</th>\n",
       "      <td>0</td>\n",
       "      <td>18393</td>\n",
       "      <td>2</td>\n",
       "      <td>168</td>\n",
       "      <td>62.0</td>\n",
       "      <td>110</td>\n",
       "      <td>80</td>\n",
       "      <td>1</td>\n",
       "      <td>1</td>\n",
       "      <td>0</td>\n",
       "      <td>0</td>\n",
       "      <td>1</td>\n",
       "      <td>0</td>\n",
       "    </tr>\n",
       "    <tr>\n",
       "      <th>1</th>\n",
       "      <td>1</td>\n",
       "      <td>20228</td>\n",
       "      <td>1</td>\n",
       "      <td>156</td>\n",
       "      <td>85.0</td>\n",
       "      <td>140</td>\n",
       "      <td>90</td>\n",
       "      <td>3</td>\n",
       "      <td>1</td>\n",
       "      <td>0</td>\n",
       "      <td>0</td>\n",
       "      <td>1</td>\n",
       "      <td>1</td>\n",
       "    </tr>\n",
       "    <tr>\n",
       "      <th>2</th>\n",
       "      <td>2</td>\n",
       "      <td>18857</td>\n",
       "      <td>1</td>\n",
       "      <td>165</td>\n",
       "      <td>64.0</td>\n",
       "      <td>130</td>\n",
       "      <td>70</td>\n",
       "      <td>3</td>\n",
       "      <td>1</td>\n",
       "      <td>0</td>\n",
       "      <td>0</td>\n",
       "      <td>0</td>\n",
       "      <td>1</td>\n",
       "    </tr>\n",
       "    <tr>\n",
       "      <th>3</th>\n",
       "      <td>3</td>\n",
       "      <td>17623</td>\n",
       "      <td>2</td>\n",
       "      <td>169</td>\n",
       "      <td>82.0</td>\n",
       "      <td>150</td>\n",
       "      <td>100</td>\n",
       "      <td>1</td>\n",
       "      <td>1</td>\n",
       "      <td>0</td>\n",
       "      <td>0</td>\n",
       "      <td>1</td>\n",
       "      <td>1</td>\n",
       "    </tr>\n",
       "    <tr>\n",
       "      <th>4</th>\n",
       "      <td>4</td>\n",
       "      <td>17474</td>\n",
       "      <td>1</td>\n",
       "      <td>156</td>\n",
       "      <td>56.0</td>\n",
       "      <td>100</td>\n",
       "      <td>60</td>\n",
       "      <td>1</td>\n",
       "      <td>1</td>\n",
       "      <td>0</td>\n",
       "      <td>0</td>\n",
       "      <td>0</td>\n",
       "      <td>0</td>\n",
       "    </tr>\n",
       "  </tbody>\n",
       "</table>\n",
       "</div>"
      ],
      "text/plain": [
       "   id    age  gender  height  weight  ap_hi  ap_lo  cholesterol  gluc  smoke  \\\n",
       "0   0  18393       2     168    62.0    110     80            1     1      0   \n",
       "1   1  20228       1     156    85.0    140     90            3     1      0   \n",
       "2   2  18857       1     165    64.0    130     70            3     1      0   \n",
       "3   3  17623       2     169    82.0    150    100            1     1      0   \n",
       "4   4  17474       1     156    56.0    100     60            1     1      0   \n",
       "\n",
       "   alco  active  cardio  \n",
       "0     0       1       0  \n",
       "1     0       1       1  \n",
       "2     0       0       1  \n",
       "3     0       1       1  \n",
       "4     0       0       0  "
      ]
     },
     "execution_count": 5,
     "metadata": {},
     "output_type": "execute_result"
    }
   ],
   "source": [
    "df.head()"
   ]
  },
  {
   "cell_type": "code",
   "execution_count": 7,
   "id": "b45867d4",
   "metadata": {},
   "outputs": [],
   "source": [
    "#create a new column age(in year)\n",
    "df['age(in year)']=df['age'].apply(lambda x:round(x/365))"
   ]
  },
  {
   "cell_type": "raw",
   "id": "7edce9f2",
   "metadata": {},
   "source": []
  },
  {
   "cell_type": "code",
   "execution_count": 8,
   "id": "e073e712",
   "metadata": {},
   "outputs": [
    {
     "data": {
      "text/html": [
       "<div>\n",
       "<style scoped>\n",
       "    .dataframe tbody tr th:only-of-type {\n",
       "        vertical-align: middle;\n",
       "    }\n",
       "\n",
       "    .dataframe tbody tr th {\n",
       "        vertical-align: top;\n",
       "    }\n",
       "\n",
       "    .dataframe thead th {\n",
       "        text-align: right;\n",
       "    }\n",
       "</style>\n",
       "<table border=\"1\" class=\"dataframe\">\n",
       "  <thead>\n",
       "    <tr style=\"text-align: right;\">\n",
       "      <th></th>\n",
       "      <th>id</th>\n",
       "      <th>age</th>\n",
       "      <th>gender</th>\n",
       "      <th>height</th>\n",
       "      <th>weight</th>\n",
       "      <th>ap_hi</th>\n",
       "      <th>ap_lo</th>\n",
       "      <th>cholesterol</th>\n",
       "      <th>gluc</th>\n",
       "      <th>smoke</th>\n",
       "      <th>alco</th>\n",
       "      <th>active</th>\n",
       "      <th>cardio</th>\n",
       "      <th>age(in year)</th>\n",
       "    </tr>\n",
       "  </thead>\n",
       "  <tbody>\n",
       "    <tr>\n",
       "      <th>0</th>\n",
       "      <td>0</td>\n",
       "      <td>18393</td>\n",
       "      <td>2</td>\n",
       "      <td>168</td>\n",
       "      <td>62.0</td>\n",
       "      <td>110</td>\n",
       "      <td>80</td>\n",
       "      <td>1</td>\n",
       "      <td>1</td>\n",
       "      <td>0</td>\n",
       "      <td>0</td>\n",
       "      <td>1</td>\n",
       "      <td>0</td>\n",
       "      <td>50</td>\n",
       "    </tr>\n",
       "    <tr>\n",
       "      <th>1</th>\n",
       "      <td>1</td>\n",
       "      <td>20228</td>\n",
       "      <td>1</td>\n",
       "      <td>156</td>\n",
       "      <td>85.0</td>\n",
       "      <td>140</td>\n",
       "      <td>90</td>\n",
       "      <td>3</td>\n",
       "      <td>1</td>\n",
       "      <td>0</td>\n",
       "      <td>0</td>\n",
       "      <td>1</td>\n",
       "      <td>1</td>\n",
       "      <td>55</td>\n",
       "    </tr>\n",
       "    <tr>\n",
       "      <th>2</th>\n",
       "      <td>2</td>\n",
       "      <td>18857</td>\n",
       "      <td>1</td>\n",
       "      <td>165</td>\n",
       "      <td>64.0</td>\n",
       "      <td>130</td>\n",
       "      <td>70</td>\n",
       "      <td>3</td>\n",
       "      <td>1</td>\n",
       "      <td>0</td>\n",
       "      <td>0</td>\n",
       "      <td>0</td>\n",
       "      <td>1</td>\n",
       "      <td>52</td>\n",
       "    </tr>\n",
       "    <tr>\n",
       "      <th>3</th>\n",
       "      <td>3</td>\n",
       "      <td>17623</td>\n",
       "      <td>2</td>\n",
       "      <td>169</td>\n",
       "      <td>82.0</td>\n",
       "      <td>150</td>\n",
       "      <td>100</td>\n",
       "      <td>1</td>\n",
       "      <td>1</td>\n",
       "      <td>0</td>\n",
       "      <td>0</td>\n",
       "      <td>1</td>\n",
       "      <td>1</td>\n",
       "      <td>48</td>\n",
       "    </tr>\n",
       "    <tr>\n",
       "      <th>4</th>\n",
       "      <td>4</td>\n",
       "      <td>17474</td>\n",
       "      <td>1</td>\n",
       "      <td>156</td>\n",
       "      <td>56.0</td>\n",
       "      <td>100</td>\n",
       "      <td>60</td>\n",
       "      <td>1</td>\n",
       "      <td>1</td>\n",
       "      <td>0</td>\n",
       "      <td>0</td>\n",
       "      <td>0</td>\n",
       "      <td>0</td>\n",
       "      <td>48</td>\n",
       "    </tr>\n",
       "  </tbody>\n",
       "</table>\n",
       "</div>"
      ],
      "text/plain": [
       "   id    age  gender  height  weight  ap_hi  ap_lo  cholesterol  gluc  smoke  \\\n",
       "0   0  18393       2     168    62.0    110     80            1     1      0   \n",
       "1   1  20228       1     156    85.0    140     90            3     1      0   \n",
       "2   2  18857       1     165    64.0    130     70            3     1      0   \n",
       "3   3  17623       2     169    82.0    150    100            1     1      0   \n",
       "4   4  17474       1     156    56.0    100     60            1     1      0   \n",
       "\n",
       "   alco  active  cardio  age(in year)  \n",
       "0     0       1       0            50  \n",
       "1     0       1       1            55  \n",
       "2     0       0       1            52  \n",
       "3     0       1       1            48  \n",
       "4     0       0       0            48  "
      ]
     },
     "execution_count": 8,
     "metadata": {},
     "output_type": "execute_result"
    }
   ],
   "source": [
    "df.head()"
   ]
  },
  {
   "cell_type": "code",
   "execution_count": null,
   "id": "79e84bca",
   "metadata": {},
   "outputs": [],
   "source": []
  },
  {
   "cell_type": "markdown",
   "id": "a80f9b3c",
   "metadata": {},
   "source": [
    "# <h3>Q. Patients with cardiac diseases,find the difference and percentage ratio between male and female.</h3>"
   ]
  },
  {
   "cell_type": "code",
   "execution_count": null,
   "id": "2993a0b5",
   "metadata": {},
   "outputs": [],
   "source": []
  },
  {
   "cell_type": "code",
   "execution_count": null,
   "id": "300f5af6",
   "metadata": {},
   "outputs": [],
   "source": []
  },
  {
   "cell_type": "code",
   "execution_count": 43,
   "id": "af3cf6b7",
   "metadata": {},
   "outputs": [],
   "source": [
    "cardio_df=df[df['cardio']==1]"
   ]
  },
  {
   "cell_type": "code",
   "execution_count": 44,
   "id": "9216b0a9",
   "metadata": {},
   "outputs": [
    {
     "data": {
      "text/html": [
       "<div>\n",
       "<style scoped>\n",
       "    .dataframe tbody tr th:only-of-type {\n",
       "        vertical-align: middle;\n",
       "    }\n",
       "\n",
       "    .dataframe tbody tr th {\n",
       "        vertical-align: top;\n",
       "    }\n",
       "\n",
       "    .dataframe thead th {\n",
       "        text-align: right;\n",
       "    }\n",
       "</style>\n",
       "<table border=\"1\" class=\"dataframe\">\n",
       "  <thead>\n",
       "    <tr style=\"text-align: right;\">\n",
       "      <th></th>\n",
       "      <th>id</th>\n",
       "      <th>age</th>\n",
       "      <th>gender</th>\n",
       "      <th>height</th>\n",
       "      <th>weight</th>\n",
       "      <th>ap_hi</th>\n",
       "      <th>ap_lo</th>\n",
       "      <th>cholesterol</th>\n",
       "      <th>gluc</th>\n",
       "      <th>smoke</th>\n",
       "      <th>alco</th>\n",
       "      <th>active</th>\n",
       "      <th>cardio</th>\n",
       "      <th>age(in year)</th>\n",
       "    </tr>\n",
       "  </thead>\n",
       "  <tbody>\n",
       "    <tr>\n",
       "      <th>1</th>\n",
       "      <td>1</td>\n",
       "      <td>20228</td>\n",
       "      <td>1</td>\n",
       "      <td>156</td>\n",
       "      <td>85.0</td>\n",
       "      <td>140</td>\n",
       "      <td>90</td>\n",
       "      <td>3</td>\n",
       "      <td>1</td>\n",
       "      <td>0</td>\n",
       "      <td>0</td>\n",
       "      <td>1</td>\n",
       "      <td>1</td>\n",
       "      <td>55</td>\n",
       "    </tr>\n",
       "    <tr>\n",
       "      <th>2</th>\n",
       "      <td>2</td>\n",
       "      <td>18857</td>\n",
       "      <td>1</td>\n",
       "      <td>165</td>\n",
       "      <td>64.0</td>\n",
       "      <td>130</td>\n",
       "      <td>70</td>\n",
       "      <td>3</td>\n",
       "      <td>1</td>\n",
       "      <td>0</td>\n",
       "      <td>0</td>\n",
       "      <td>0</td>\n",
       "      <td>1</td>\n",
       "      <td>52</td>\n",
       "    </tr>\n",
       "    <tr>\n",
       "      <th>3</th>\n",
       "      <td>3</td>\n",
       "      <td>17623</td>\n",
       "      <td>2</td>\n",
       "      <td>169</td>\n",
       "      <td>82.0</td>\n",
       "      <td>150</td>\n",
       "      <td>100</td>\n",
       "      <td>1</td>\n",
       "      <td>1</td>\n",
       "      <td>0</td>\n",
       "      <td>0</td>\n",
       "      <td>1</td>\n",
       "      <td>1</td>\n",
       "      <td>48</td>\n",
       "    </tr>\n",
       "    <tr>\n",
       "      <th>7</th>\n",
       "      <td>12</td>\n",
       "      <td>22584</td>\n",
       "      <td>2</td>\n",
       "      <td>178</td>\n",
       "      <td>95.0</td>\n",
       "      <td>130</td>\n",
       "      <td>90</td>\n",
       "      <td>3</td>\n",
       "      <td>3</td>\n",
       "      <td>0</td>\n",
       "      <td>0</td>\n",
       "      <td>1</td>\n",
       "      <td>1</td>\n",
       "      <td>62</td>\n",
       "    </tr>\n",
       "    <tr>\n",
       "      <th>15</th>\n",
       "      <td>24</td>\n",
       "      <td>16782</td>\n",
       "      <td>2</td>\n",
       "      <td>172</td>\n",
       "      <td>112.0</td>\n",
       "      <td>120</td>\n",
       "      <td>80</td>\n",
       "      <td>1</td>\n",
       "      <td>1</td>\n",
       "      <td>0</td>\n",
       "      <td>0</td>\n",
       "      <td>0</td>\n",
       "      <td>1</td>\n",
       "      <td>46</td>\n",
       "    </tr>\n",
       "  </tbody>\n",
       "</table>\n",
       "</div>"
      ],
      "text/plain": [
       "    id    age  gender  height  weight  ap_hi  ap_lo  cholesterol  gluc  smoke  \\\n",
       "1    1  20228       1     156    85.0    140     90            3     1      0   \n",
       "2    2  18857       1     165    64.0    130     70            3     1      0   \n",
       "3    3  17623       2     169    82.0    150    100            1     1      0   \n",
       "7   12  22584       2     178    95.0    130     90            3     3      0   \n",
       "15  24  16782       2     172   112.0    120     80            1     1      0   \n",
       "\n",
       "    alco  active  cardio  age(in year)  \n",
       "1      0       1       1            55  \n",
       "2      0       0       1            52  \n",
       "3      0       1       1            48  \n",
       "7      0       1       1            62  \n",
       "15     0       0       1            46  "
      ]
     },
     "execution_count": 44,
     "metadata": {},
     "output_type": "execute_result"
    }
   ],
   "source": [
    "cardio_df.head()"
   ]
  },
  {
   "cell_type": "code",
   "execution_count": null,
   "id": "5abecff3",
   "metadata": {},
   "outputs": [],
   "source": [
    "cardio_df.shape"
   ]
  },
  {
   "cell_type": "code",
   "execution_count": null,
   "id": "bbe9da44",
   "metadata": {},
   "outputs": [],
   "source": [
    "cardio_df.value_counts('gender')"
   ]
  },
  {
   "cell_type": "code",
   "execution_count": null,
   "id": "53dab25a",
   "metadata": {},
   "outputs": [],
   "source": [
    "plt.figure(figsize=(10,6))\n",
    "plt.title(\"Total Male & Female\")\n",
    "cardio_df.value_counts('gender').plot(kind='bar')\n",
    "# sns.countplot(cardio_df.gender)\n",
    "plt.ylabel(\"Total\")\n",
    "plt.show()"
   ]
  },
  {
   "cell_type": "code",
   "execution_count": null,
   "id": "2d250682",
   "metadata": {},
   "outputs": [],
   "source": [
    "cdf=cardio_df.groupby('gender')['id'].count().reset_index()"
   ]
  },
  {
   "cell_type": "code",
   "execution_count": null,
   "id": "8317e7f9",
   "metadata": {},
   "outputs": [],
   "source": [
    "cdf=cdf.rename(columns={'id':'total'})"
   ]
  },
  {
   "cell_type": "code",
   "execution_count": null,
   "id": "9b5834f0",
   "metadata": {},
   "outputs": [],
   "source": [
    "plt.figure(figsize=(10,6))\n",
    "plt.title(\"Male & Female Percentage with Cardiac Diseases\",fontsize='14')\n",
    "plt.pie(cdf.total,labels=cdf.gender,autopct=\"%0.1f%%\")\n",
    "plt.legend(loc='best')\n",
    "plt.show()"
   ]
  },
  {
   "cell_type": "code",
   "execution_count": null,
   "id": "172326a5",
   "metadata": {},
   "outputs": [],
   "source": []
  },
  {
   "cell_type": "code",
   "execution_count": null,
   "id": "4eb195d3",
   "metadata": {},
   "outputs": [],
   "source": [
    "# total_gender_count=34979\n",
    "# male_percentage=round((22616/total_gender_count)*100,2)\n",
    "# female_percentage=round((12363/total_gender_count)*100,2)\n",
    "# print(\"Percentage wise total Male ad Female with cardiac disease:\")\n",
    "# print(f\"Male:{male_percentage}%\")\n",
    "# print(f\"Female:{female_percentage}%\")"
   ]
  },
  {
   "cell_type": "markdown",
   "id": "5028aac3",
   "metadata": {},
   "source": [
    "# <h4>\n",
    "- 22616 Male Patients\n",
    "- 12363 Female Patients\n",
    "\n",
    "</h4>"
   ]
  },
  {
   "cell_type": "code",
   "execution_count": null,
   "id": "c1fb9c4a",
   "metadata": {},
   "outputs": [],
   "source": []
  },
  {
   "cell_type": "markdown",
   "id": "97e58769",
   "metadata": {},
   "source": [
    "# <h3>Q. Find the correlation between ap_hi and ap_low for both the gender with scatter plot</h3>"
   ]
  },
  {
   "cell_type": "code",
   "execution_count": null,
   "id": "c875d391",
   "metadata": {},
   "outputs": [],
   "source": [
    "cardio_df.head()"
   ]
  },
  {
   "cell_type": "code",
   "execution_count": null,
   "id": "e8c98093",
   "metadata": {},
   "outputs": [],
   "source": [
    "co=cardio_df['ap_hi'].corr(cardio_df['ap_lo'])\n",
    "print(f\"Correlation between ap_hi and ap_lo: {co}\")"
   ]
  },
  {
   "cell_type": "code",
   "execution_count": null,
   "id": "d55f4c57",
   "metadata": {},
   "outputs": [],
   "source": [
    "plt.figure(figsize=(10,6))\n",
    "# sns.scatterplot(cardio_df.ap_lo,cardio_df.ap_hi)\n",
    "plt.title('Relation between ap_hi and ap_lo',fontsize='14')\n",
    "sns.lineplot(cardio_df.ap_lo,cardio_df.ap_hi)\n",
    "plt.xlabel('ap_lo',fontsize='12')\n",
    "plt.ylabel('ap_hi',fontsize='12')\n",
    "plt.show()"
   ]
  },
  {
   "cell_type": "markdown",
   "id": "913c055d",
   "metadata": {},
   "source": [
    "# <h4>\n",
    "- Correlation between ap_lo and ap_hi is 0.01339\n",
    "</h4>"
   ]
  },
  {
   "cell_type": "code",
   "execution_count": null,
   "id": "818f9c30",
   "metadata": {},
   "outputs": [],
   "source": []
  },
  {
   "cell_type": "markdown",
   "id": "6633d166",
   "metadata": {},
   "source": [
    "# <h3>Q. Finds which age group has more affected by cardiac disease</h3>"
   ]
  },
  {
   "cell_type": "code",
   "execution_count": null,
   "id": "85d801ed",
   "metadata": {},
   "outputs": [],
   "source": [
    "cardio_df.head()"
   ]
  },
  {
   "cell_type": "code",
   "execution_count": null,
   "id": "a686e6a4",
   "metadata": {},
   "outputs": [],
   "source": [
    "cardio_df['age(in year)'].unique()"
   ]
  },
  {
   "cell_type": "code",
   "execution_count": null,
   "id": "dc4665fe",
   "metadata": {},
   "outputs": [],
   "source": [
    "#create a new column 'age_group'"
   ]
  },
  {
   "cell_type": "code",
   "execution_count": null,
   "id": "0c1aa74e",
   "metadata": {},
   "outputs": [],
   "source": [
    "def age_group(x):\n",
    "    if x<=10:\n",
    "        return \"0-10\"\n",
    "    elif x>10 and x<=20:\n",
    "        return \"11-20\"\n",
    "    elif x>20 and x<=30:\n",
    "        return \"21-30\"\n",
    "    elif x>30 and x<=40:\n",
    "        return \"31-40\"\n",
    "    elif x>40 and x<=50:\n",
    "        return \"41-50\"\n",
    "    elif x>50 and x<=60:\n",
    "        return \"51-60\"\n",
    "    elif x>60 and x<=70:\n",
    "        return \"61-70\"\n",
    "   \n",
    "   "
   ]
  },
  {
   "cell_type": "code",
   "execution_count": null,
   "id": "d6ec6d02",
   "metadata": {},
   "outputs": [],
   "source": [
    "df['age_group']=df['age(in year)'].apply(age_group)"
   ]
  },
  {
   "cell_type": "code",
   "execution_count": null,
   "id": "f6bf2151",
   "metadata": {},
   "outputs": [],
   "source": [
    "df.head()"
   ]
  },
  {
   "cell_type": "code",
   "execution_count": null,
   "id": "cc2f7d5d",
   "metadata": {},
   "outputs": [],
   "source": [
    "df.age_group.unique()"
   ]
  },
  {
   "cell_type": "code",
   "execution_count": null,
   "id": "2cfb8e74",
   "metadata": {},
   "outputs": [],
   "source": [
    "cardio_df=df[df['cardio']==1]"
   ]
  },
  {
   "cell_type": "code",
   "execution_count": null,
   "id": "dc4798d3",
   "metadata": {},
   "outputs": [],
   "source": [
    "cardio_df.head()"
   ]
  },
  {
   "cell_type": "code",
   "execution_count": null,
   "id": "18fe2e32",
   "metadata": {},
   "outputs": [],
   "source": [
    "#using histogram\n",
    "plt.title(\"Age Wise Cardiac Patients\",fontsize='14')\n",
    "# sns.histplot(cardio_df['age(in year)'],bins=15)\n",
    "plt.hist(cardio_df['age(in year)'],bins=10)\n",
    "plt.show()"
   ]
  },
  {
   "cell_type": "code",
   "execution_count": null,
   "id": "8ac041ed",
   "metadata": {},
   "outputs": [],
   "source": [
    "#using bar graph\n",
    "cdf=cardio_df.groupby('age_group')['cardio'].count().reset_index()"
   ]
  },
  {
   "cell_type": "code",
   "execution_count": null,
   "id": "cb2c0996",
   "metadata": {},
   "outputs": [],
   "source": [
    "cdf"
   ]
  },
  {
   "cell_type": "code",
   "execution_count": null,
   "id": "37ebc5ec",
   "metadata": {},
   "outputs": [],
   "source": [
    "plt.figure(figsize=(10,6))\n",
    "plt.title(\"Age_Group Wise Cardiac Patients\",fontsize='14')\n",
    "p=sns.barplot(x=cdf.age_group,y=cdf.cardio)\n",
    "for i in p.containers:\n",
    "    plt.bar_label(i)\n",
    "plt.xlabel('Age_Group',fontsize='10')\n",
    "plt.ylabel('Total Patients',fontsize='10')\n",
    "plt.show()"
   ]
  },
  {
   "cell_type": "code",
   "execution_count": null,
   "id": "816c091d",
   "metadata": {},
   "outputs": [],
   "source": [
    "#with age group 51-60"
   ]
  },
  {
   "cell_type": "code",
   "execution_count": null,
   "id": "f0c0e61b",
   "metadata": {},
   "outputs": [],
   "source": [
    "cdf[cdf['age_group']=='51-60']"
   ]
  },
  {
   "cell_type": "code",
   "execution_count": null,
   "id": "180c7552",
   "metadata": {},
   "outputs": [],
   "source": []
  },
  {
   "cell_type": "markdown",
   "id": "650e7c0c",
   "metadata": {},
   "source": [
    "# <h4>\n",
    "Age Group wise cardiac patients:\n",
    "1. 50-60 age group are more affected by cardiac disease\n",
    "2. Then 41-50 age group\n",
    "3. Then 61-70 age group\n",
    "</h4>"
   ]
  },
  {
   "cell_type": "markdown",
   "id": "eee8cf3b",
   "metadata": {},
   "source": [
    "# <h3>Q.Find the percentage of patients having cardiovascular disorder with ap_hi and weight more than their respective means and write your conclusion about it. Does high ap_hi and high weight play an important role for cardiac health?</h3>"
   ]
  },
  {
   "cell_type": "code",
   "execution_count": null,
   "id": "c8219649",
   "metadata": {},
   "outputs": [],
   "source": [
    "cardio_df.head()"
   ]
  },
  {
   "cell_type": "code",
   "execution_count": null,
   "id": "043937b3",
   "metadata": {},
   "outputs": [],
   "source": [
    "mean_weight=round(cardio_df.weight.mean(),1)"
   ]
  },
  {
   "cell_type": "code",
   "execution_count": null,
   "id": "42ed0aef",
   "metadata": {},
   "outputs": [],
   "source": [
    "mean_weight"
   ]
  },
  {
   "cell_type": "code",
   "execution_count": null,
   "id": "b3dcb331",
   "metadata": {},
   "outputs": [],
   "source": [
    "mean_ap_hi=round(cardio_df.ap_hi.mean())"
   ]
  },
  {
   "cell_type": "code",
   "execution_count": null,
   "id": "666f03c2",
   "metadata": {},
   "outputs": [],
   "source": [
    "mean_ap_hi"
   ]
  },
  {
   "cell_type": "code",
   "execution_count": null,
   "id": "f0e256be",
   "metadata": {},
   "outputs": [],
   "source": [
    "ap_hi_weight=cardio_df[(cardio_df['ap_hi']>mean_ap_hi) & (cardio_df['weight']>mean_weight)]  #weight >average weight"
   ]
  },
  {
   "cell_type": "code",
   "execution_count": null,
   "id": "d7126fd1",
   "metadata": {},
   "outputs": [],
   "source": [
    "ap_hi_weight.head()"
   ]
  },
  {
   "cell_type": "code",
   "execution_count": null,
   "id": "2df2b62a",
   "metadata": {},
   "outputs": [],
   "source": [
    "ap_hi_weight.value_counts('gender')"
   ]
  },
  {
   "cell_type": "code",
   "execution_count": null,
   "id": "9a236f86",
   "metadata": {},
   "outputs": [],
   "source": [
    "plt.figure(figsize=(10,6))\n",
    "plt.title('High BP and High Weight Cardiac Patients',fontsize='14')\n",
    "ap_hi_weight.value_counts('gender').plot(kind='pie',autopct='%0.1f%%',labels=ap_hi_weight.gender)\n",
    "plt.legend()\n",
    "plt.show()"
   ]
  },
  {
   "cell_type": "code",
   "execution_count": null,
   "id": "e4e8c099",
   "metadata": {},
   "outputs": [],
   "source": [
    "ap_hi_weight.value_counts('smoke')"
   ]
  },
  {
   "cell_type": "code",
   "execution_count": null,
   "id": "c9959cd3",
   "metadata": {},
   "outputs": [],
   "source": [
    "#very less patients are smoking"
   ]
  },
  {
   "cell_type": "code",
   "execution_count": null,
   "id": "fd13ff83",
   "metadata": {},
   "outputs": [],
   "source": [
    "#1 = Normal, 2 = Slightly above normal, 3 = High cholesterol\n",
    "plt.title('Cholesterol Level wise Patients')\n",
    "ap_hi_weight.value_counts('cholesterol').plot(kind='pie',autopct='%0.1f%%')\n",
    "plt.show()"
   ]
  },
  {
   "cell_type": "code",
   "execution_count": null,
   "id": "320bb260",
   "metadata": {},
   "outputs": [],
   "source": [
    "# Most of the patients with Normal cholesterol"
   ]
  },
  {
   "cell_type": "code",
   "execution_count": null,
   "id": "5b6704de",
   "metadata": {},
   "outputs": [],
   "source": [
    "plt.figure(figsize=(10,6))\n",
    "plt.title('Based on Drinking Alcohol Cardiac Patients')\n",
    "ap_hi_weight.groupby('alco')['cardio'].count().plot(kind='pie',autopct='%0.1f%%')\n",
    "plt.show()"
   ]
  },
  {
   "cell_type": "markdown",
   "id": "d5fce43b",
   "metadata": {},
   "source": [
    "# <h4>Very less people are smoking with high BP and high weight</h4>"
   ]
  },
  {
   "cell_type": "code",
   "execution_count": null,
   "id": "82c12763",
   "metadata": {},
   "outputs": [],
   "source": [
    "#1 = Normal, 2 = Slightly above normal, 3 = High sugar level\n",
    "ap_hi_weight.value_counts('gluc')"
   ]
  },
  {
   "cell_type": "code",
   "execution_count": null,
   "id": "462e8d09",
   "metadata": {},
   "outputs": [],
   "source": [
    "#6475 peoples are with Normal sugar level"
   ]
  },
  {
   "cell_type": "code",
   "execution_count": null,
   "id": "e8ecce44",
   "metadata": {},
   "outputs": [],
   "source": [
    "ap_hi_weight.value_counts('age_group')"
   ]
  },
  {
   "cell_type": "code",
   "execution_count": null,
   "id": "f7802172",
   "metadata": {},
   "outputs": [],
   "source": [
    "plt.figure(figsize=(10,6))\n",
    "plt.title('Age Group wise High BP and High Weight Patients')\n",
    "ap_hi_weight.value_counts('age_group').plot(kind='pie',autopct='%0.1f%%')\n",
    "plt.show()"
   ]
  },
  {
   "cell_type": "markdown",
   "id": "20880069",
   "metadata": {},
   "source": [
    "# <h4>\n",
    "*With ap_hi and high weight, 51-60 age group are more affected</h4>"
   ]
  },
  {
   "cell_type": "markdown",
   "id": "ad2c587f",
   "metadata": {},
   "source": [
    "# <h3>Q. With low bp and low weight cardiac disorder patients analysis.</h3>"
   ]
  },
  {
   "cell_type": "code",
   "execution_count": null,
   "id": "bc98c396",
   "metadata": {},
   "outputs": [],
   "source": [
    "lo_ap_weight=cardio_df[(cardio_df['ap_hi']<mean_ap_hi) & (cardio_df['weight']<mean_weight)]"
   ]
  },
  {
   "cell_type": "code",
   "execution_count": null,
   "id": "eec512b7",
   "metadata": {},
   "outputs": [],
   "source": [
    "lo_ap_weight.head()"
   ]
  },
  {
   "cell_type": "code",
   "execution_count": null,
   "id": "c9bcf47c",
   "metadata": {},
   "outputs": [],
   "source": [
    "lo_ap_weight.value_counts('gender')"
   ]
  },
  {
   "cell_type": "code",
   "execution_count": null,
   "id": "d9cd247c",
   "metadata": {},
   "outputs": [],
   "source": [
    "plt.figure(figsize=(10,6))\n",
    "plt.title('Low BP and Low Weight Cardiac Patients',fontsize='14')\n",
    "lo_ap_weight.value_counts('gender').plot(kind='pie',autopct='%0.1f%%',labels=lo_ap_weight.gender)\n",
    "plt.legend()\n",
    "plt.show()"
   ]
  },
  {
   "cell_type": "code",
   "execution_count": null,
   "id": "e08f130f",
   "metadata": {},
   "outputs": [],
   "source": [
    "lo_ap_weight.value_counts('cholesterol')"
   ]
  },
  {
   "cell_type": "code",
   "execution_count": null,
   "id": "5032e69e",
   "metadata": {},
   "outputs": [],
   "source": [
    "lo_ap_weight.value_counts('smoke')"
   ]
  },
  {
   "cell_type": "code",
   "execution_count": null,
   "id": "134e5988",
   "metadata": {},
   "outputs": [],
   "source": [
    "lo_ap_weight.value_counts('alco')"
   ]
  },
  {
   "cell_type": "markdown",
   "id": "cd298735",
   "metadata": {},
   "source": [
    "# <h4>\n",
    "*Conclusion:\n",
    "1. ap_hi with high weight and ap_lo with low weight in both cases male patients are more affected than female patients\n",
    "2. In both cases maximum patients has normal cholesterol level\n",
    "3. Both cases low number of smokers\n",
    "4. Also low number in drinking alcohol \n",
    "</h4>"
   ]
  },
  {
   "cell_type": "markdown",
   "id": "008d55f8",
   "metadata": {},
   "source": [
    "# <h3>Q. Which cholesterol level has the highest cardiac disease patients and also find the percentage of male and females in all the categories.</h3>"
   ]
  },
  {
   "cell_type": "code",
   "execution_count": null,
   "id": "de4a9d32",
   "metadata": {},
   "outputs": [],
   "source": [
    "cardio_df.head()"
   ]
  },
  {
   "cell_type": "code",
   "execution_count": null,
   "id": "0ba97f65",
   "metadata": {},
   "outputs": [],
   "source": [
    "cardio_df.groupby('cholesterol')['gender'].count()"
   ]
  },
  {
   "cell_type": "markdown",
   "id": "124c4dc8",
   "metadata": {},
   "source": [
    "# <h4>* Cholesterol Level 1 has the highest Cardiac patients</h4>"
   ]
  },
  {
   "cell_type": "code",
   "execution_count": null,
   "id": "b3b55508",
   "metadata": {},
   "outputs": [],
   "source": []
  },
  {
   "cell_type": "code",
   "execution_count": null,
   "id": "fcc63a29",
   "metadata": {},
   "outputs": [],
   "source": [
    "# pd.pivot_table(cardio_df,index='gender',columns='cholesterol',values='cardio',aggfunc='count')"
   ]
  },
  {
   "cell_type": "code",
   "execution_count": null,
   "id": "bba503fa",
   "metadata": {},
   "outputs": [],
   "source": [
    "#using bar graph showing how many patients are in every cholesterol level\n",
    "cf=cardio_df.groupby(['gender','cholesterol'])['cardio'].count().reset_index()\n",
    "plt.figure(figsize=(10,6))\n",
    "plt.title('Gender and Cholesterol Level wise Cardiac Patients',fontsize='14')\n",
    "p=sns.barplot(cf.gender,cf.cardio,hue=cf.cholesterol)\n",
    "for i in p.containers:\n",
    "    plt.bar_label(i)\n",
    "plt.show()"
   ]
  },
  {
   "cell_type": "code",
   "execution_count": null,
   "id": "aea05dbf",
   "metadata": {},
   "outputs": [],
   "source": [
    "#using pie plot\n",
    "plt.figure(figsize=(10,6))\n",
    "plt.title('Gender and Cholesterol Level wise Cardiac Patients',fontsize='14')\n",
    "cardio_df.groupby(['gender','cholesterol'])['cardio'].count().plot(kind='pie',autopct='%0.1f%%')\n",
    "plt.legend()\n",
    "plt.show()"
   ]
  },
  {
   "cell_type": "markdown",
   "id": "fcdcdfd9",
   "metadata": {},
   "source": [
    "# <h5>Cholesterol level wise male and female percentage</h5>\n"
   ]
  },
  {
   "cell_type": "code",
   "execution_count": null,
   "id": "c68ecf0c",
   "metadata": {},
   "outputs": [],
   "source": [
    "chl1=cardio_df[cardio_df['cholesterol']==1].reset_index()"
   ]
  },
  {
   "cell_type": "code",
   "execution_count": null,
   "id": "bd8bac3b",
   "metadata": {},
   "outputs": [],
   "source": [
    "chl1.head()"
   ]
  },
  {
   "cell_type": "code",
   "execution_count": null,
   "id": "c8d55b08",
   "metadata": {},
   "outputs": [],
   "source": [
    "chl1.groupby('gender')['cardio'].count()"
   ]
  },
  {
   "cell_type": "code",
   "execution_count": null,
   "id": "ceb00844",
   "metadata": {},
   "outputs": [],
   "source": [
    "plt.figure(figsize=(10,6))\n",
    "plt.title('Total Cardiac patients in Cholesterol Level 1',fontsize='14')\n",
    "chl1.groupby('gender')['cardio'].count().plot(kind='bar')\n",
    "plt.show()"
   ]
  },
  {
   "cell_type": "code",
   "execution_count": null,
   "id": "520682de",
   "metadata": {},
   "outputs": [],
   "source": [
    "plt.figure(figsize=(10,6))\n",
    "plt.title('Percentage of Gender with Cholesterol Level 1',fontsize='14')\n",
    "chl1.groupby('gender')['cholesterol'].count().plot(kind='pie',autopct='%0.1f%%')\n",
    "plt.legend()\n",
    "plt.show()"
   ]
  },
  {
   "cell_type": "code",
   "execution_count": null,
   "id": "5016dbe6",
   "metadata": {},
   "outputs": [],
   "source": [
    "plt.figure(figsize=(10,6))\n",
    "plt.title('Relation between Age Group and Height')\n",
    "sns.lineplot(chl1.age_group,chl1.height)\n",
    "plt.show()"
   ]
  },
  {
   "cell_type": "code",
   "execution_count": null,
   "id": "53de53f8",
   "metadata": {},
   "outputs": [],
   "source": [
    "plt.figure(figsize=(10,6))\n",
    "plt.title('Relation between Age Group and Weight')\n",
    "sns.lineplot(chl1.age_group,chl1.weight)\n",
    "plt.show()"
   ]
  },
  {
   "cell_type": "code",
   "execution_count": null,
   "id": "9a8b712a",
   "metadata": {},
   "outputs": [],
   "source": [
    "chl2=cardio_df[cardio_df['cholesterol']==2].reset_index()"
   ]
  },
  {
   "cell_type": "code",
   "execution_count": null,
   "id": "6aac6edd",
   "metadata": {},
   "outputs": [],
   "source": [
    "chl2.head()"
   ]
  },
  {
   "cell_type": "code",
   "execution_count": null,
   "id": "c76affcd",
   "metadata": {},
   "outputs": [],
   "source": [
    "plt.figure(figsize=(10,6))\n",
    "plt.title('Percentage of Gender with Cholesterol Level 2',fontsize='14')\n",
    "chl2.groupby('gender')['cholesterol'].count().plot(kind='pie',autopct='%0.1f%%')\n",
    "plt.legend()\n",
    "plt.show()"
   ]
  },
  {
   "cell_type": "code",
   "execution_count": null,
   "id": "9e909915",
   "metadata": {},
   "outputs": [],
   "source": []
  },
  {
   "cell_type": "code",
   "execution_count": null,
   "id": "d7126307",
   "metadata": {},
   "outputs": [],
   "source": [
    "chl3=cardio_df[cardio_df['cholesterol']==3].reset_index()"
   ]
  },
  {
   "cell_type": "code",
   "execution_count": null,
   "id": "6604c0b9",
   "metadata": {},
   "outputs": [],
   "source": [
    "chl3.head()"
   ]
  },
  {
   "cell_type": "code",
   "execution_count": null,
   "id": "68c1a260",
   "metadata": {},
   "outputs": [],
   "source": [
    "plt.figure(figsize=(10,6))\n",
    "plt.title('Percentage of Gender with Cholesterol Level 3',fontsize='14')\n",
    "chl3.groupby('gender')['cholesterol'].count().plot(kind='pie',autopct='%0.1f%%')\n",
    "plt.legend()\n",
    "plt.show()"
   ]
  },
  {
   "cell_type": "code",
   "execution_count": null,
   "id": "0fd9f26a",
   "metadata": {},
   "outputs": [],
   "source": []
  },
  {
   "cell_type": "markdown",
   "id": "99c46e80",
   "metadata": {},
   "source": [
    "# <h3>Q. Find the percentage of the patients having cardiac disorders with age greater than 45? <br>what are the factors affecting heart health which needs to be taken care about? <br>What are the factors or information of the first screening which helps us understand that the patient might have a heart disease?</h3>"
   ]
  },
  {
   "cell_type": "raw",
   "id": "25043001",
   "metadata": {},
   "source": []
  },
  {
   "cell_type": "code",
   "execution_count": null,
   "id": "de0226a7",
   "metadata": {},
   "outputs": [],
   "source": [
    "cardio_45=cardio_df[cardio_df['age(in year)']>45]"
   ]
  },
  {
   "cell_type": "code",
   "execution_count": null,
   "id": "5bdd594c",
   "metadata": {},
   "outputs": [],
   "source": [
    "cardio_45.head()"
   ]
  },
  {
   "cell_type": "code",
   "execution_count": null,
   "id": "6e39c622",
   "metadata": {},
   "outputs": [],
   "source": [
    "cardio_45.groupby('gender')['cardio'].count()"
   ]
  },
  {
   "cell_type": "code",
   "execution_count": null,
   "id": "ef06f6e6",
   "metadata": {},
   "outputs": [],
   "source": [
    "plt.figure(figsize=(10,6))\n",
    "plt.title('Cardiac Patient Percentage with Age More Than 45',fontsize='14')\n",
    "cardio_45.groupby('gender')['cardio'].count().plot(kind='pie',autopct='%0.1f%%')\n",
    "plt.show()"
   ]
  },
  {
   "cell_type": "markdown",
   "id": "3f97bb45",
   "metadata": {},
   "source": [
    "# <h4>Cardiac Patients with Physically active where age > 45<h4>"
   ]
  },
  {
   "cell_type": "code",
   "execution_count": null,
   "id": "130c17f3",
   "metadata": {},
   "outputs": [],
   "source": [
    "active_45=cardio_45[cardio_45['active']==1]"
   ]
  },
  {
   "cell_type": "code",
   "execution_count": null,
   "id": "8c65aaf8",
   "metadata": {},
   "outputs": [],
   "source": [
    "active_45.head()"
   ]
  },
  {
   "cell_type": "code",
   "execution_count": null,
   "id": "0ee12b47",
   "metadata": {},
   "outputs": [],
   "source": [
    "#major symptoms"
   ]
  },
  {
   "cell_type": "code",
   "execution_count": null,
   "id": "f3b4af73",
   "metadata": {},
   "outputs": [],
   "source": [
    "active_45.value_counts('cholesterol')"
   ]
  },
  {
   "cell_type": "code",
   "execution_count": null,
   "id": "d15072b9",
   "metadata": {},
   "outputs": [],
   "source": [
    "#-- 16197 patients have cholesterol level 1 (Normal)\n",
    "#-- 4803 patients have cholesterol level 3 (High level)"
   ]
  },
  {
   "cell_type": "code",
   "execution_count": null,
   "id": "f4a9dc02",
   "metadata": {},
   "outputs": [],
   "source": [
    "active_45.value_counts('smoke')"
   ]
  },
  {
   "cell_type": "code",
   "execution_count": null,
   "id": "e02a1c30",
   "metadata": {},
   "outputs": [],
   "source": [
    "#-- 22945 are not smoking \n",
    "#-- 2061 are smoking"
   ]
  },
  {
   "cell_type": "code",
   "execution_count": null,
   "id": "3d60ef8d",
   "metadata": {},
   "outputs": [],
   "source": [
    "active_45.value_counts('alco')"
   ]
  },
  {
   "cell_type": "markdown",
   "id": "6e85765d",
   "metadata": {},
   "source": [
    "# <h4>with male category age>45</h4>"
   ]
  },
  {
   "cell_type": "code",
   "execution_count": null,
   "id": "1801af5c",
   "metadata": {},
   "outputs": [],
   "source": [
    "m_45=cardio_45[cardio_45['gender']==1]"
   ]
  },
  {
   "cell_type": "code",
   "execution_count": null,
   "id": "9440c668",
   "metadata": {},
   "outputs": [],
   "source": [
    "m_45.head()"
   ]
  },
  {
   "cell_type": "code",
   "execution_count": null,
   "id": "8452e0a0",
   "metadata": {},
   "outputs": [],
   "source": [
    "#age group wise high bp"
   ]
  },
  {
   "cell_type": "code",
   "execution_count": null,
   "id": "28a96344",
   "metadata": {},
   "outputs": [],
   "source": [
    "plt.title('Relatio between Age and High BP')\n",
    "sns.lineplot(m_45['age_group'],m_45.ap_hi)\n",
    "plt.show()"
   ]
  },
  {
   "cell_type": "markdown",
   "id": "d867a145",
   "metadata": {},
   "source": [
    "# <h4>\n",
    "* with age>45 and age<60 patients have high BP\n",
    "</h4>"
   ]
  },
  {
   "cell_type": "code",
   "execution_count": null,
   "id": "ed60a103",
   "metadata": {},
   "outputs": [],
   "source": [
    "m_45.value_counts('cholesterol')"
   ]
  },
  {
   "cell_type": "code",
   "execution_count": null,
   "id": "16dc20f2",
   "metadata": {},
   "outputs": [],
   "source": []
  },
  {
   "cell_type": "code",
   "execution_count": null,
   "id": "35ff32c2",
   "metadata": {
    "scrolled": false
   },
   "outputs": [],
   "source": [
    "plt.title('Relatio between Age and Cholesterol')\n",
    "sns.lineplot(m_45['age(in year)'],m_45.cholesterol)\n",
    "plt.show()"
   ]
  },
  {
   "cell_type": "code",
   "execution_count": null,
   "id": "1d019196",
   "metadata": {},
   "outputs": [],
   "source": [
    "# -- age between 51 to 70 age patients have higher cholesterol level"
   ]
  },
  {
   "cell_type": "code",
   "execution_count": null,
   "id": "749074c7",
   "metadata": {},
   "outputs": [],
   "source": [
    "m_45.value_counts('smoke')"
   ]
  },
  {
   "cell_type": "code",
   "execution_count": null,
   "id": "f8aa5e9d",
   "metadata": {},
   "outputs": [],
   "source": [
    "plt.title('Relatio between Age and Smoke')\n",
    "sns.lineplot(m_45['age(in year)'],m_45.smoke)\n",
    "plt.show()"
   ]
  },
  {
   "cell_type": "markdown",
   "id": "10832d68",
   "metadata": {},
   "source": [
    "# <h4> \n",
    "* 45 to 56 age group  has high smoking levels</h4>"
   ]
  },
  {
   "cell_type": "code",
   "execution_count": null,
   "id": "0063092e",
   "metadata": {},
   "outputs": [],
   "source": [
    "m_45.value_counts('active')"
   ]
  },
  {
   "cell_type": "code",
   "execution_count": null,
   "id": "a7bf6541",
   "metadata": {},
   "outputs": [],
   "source": [
    "plt.title('Relatio between Age and Physically Active')\n",
    "sns.lineplot(m_45['age_group'],m_45.active)\n",
    "plt.show()"
   ]
  },
  {
   "cell_type": "code",
   "execution_count": null,
   "id": "b3c612dc",
   "metadata": {},
   "outputs": [],
   "source": []
  },
  {
   "cell_type": "code",
   "execution_count": null,
   "id": "996fe1ce",
   "metadata": {},
   "outputs": [],
   "source": []
  },
  {
   "cell_type": "code",
   "execution_count": null,
   "id": "0dd03008",
   "metadata": {},
   "outputs": [],
   "source": [
    "plt.title('Relatio between Age and Alcohol')\n",
    "sns.lineplot(m_45['age_group'],m_45.alco)\n",
    "plt.show()"
   ]
  },
  {
   "cell_type": "markdown",
   "id": "76c8f0b7",
   "metadata": {},
   "source": [
    "# <h4>\n",
    "* 51-60 and 41-50 age group are drinking more alcohol\n",
    "</h4>"
   ]
  },
  {
   "cell_type": "markdown",
   "id": "765d387c",
   "metadata": {},
   "source": [
    "# <h4>\n",
    "* Conclusions for Male Category:\n",
    "1. 41 -50 age group patients have high BP\n",
    "2. After age 50 cholesterol level are high\n",
    "3. 45 to 56 age of cardiac patients more smoke compare to older age\n",
    "4. 51-60 and 41-50 age group are drinking more alcohol\n",
    "5. 41-50 age group people are generally more physically active\n",
    "<h4>"
   ]
  },
  {
   "cell_type": "code",
   "execution_count": null,
   "id": "74161e4e",
   "metadata": {},
   "outputs": [],
   "source": []
  },
  {
   "cell_type": "code",
   "execution_count": null,
   "id": "d96a7993",
   "metadata": {},
   "outputs": [],
   "source": []
  },
  {
   "cell_type": "markdown",
   "id": "822544e7",
   "metadata": {},
   "source": [
    "# <h4>with female category age>45</h4>"
   ]
  },
  {
   "cell_type": "code",
   "execution_count": null,
   "id": "f7218b20",
   "metadata": {},
   "outputs": [],
   "source": [
    "f_45=cardio_45[cardio_45['gender']==2]"
   ]
  },
  {
   "cell_type": "code",
   "execution_count": null,
   "id": "dd65a5a4",
   "metadata": {},
   "outputs": [],
   "source": [
    "f_45.head()"
   ]
  },
  {
   "cell_type": "code",
   "execution_count": null,
   "id": "30bcbb95",
   "metadata": {},
   "outputs": [],
   "source": [
    "# age wise ap_hi"
   ]
  },
  {
   "cell_type": "code",
   "execution_count": null,
   "id": "29a0f5ef",
   "metadata": {},
   "outputs": [],
   "source": [
    "plt.title('Relatio between Age and High BP')\n",
    "sns.lineplot(f_45['age_group'],f_45.alco)\n",
    "plt.show()"
   ]
  },
  {
   "cell_type": "code",
   "execution_count": null,
   "id": "264a8eb0",
   "metadata": {},
   "outputs": [],
   "source": [
    "#-- 41-50 age group female  patients hobe high BP"
   ]
  },
  {
   "cell_type": "code",
   "execution_count": null,
   "id": "6e653aa3",
   "metadata": {},
   "outputs": [],
   "source": [
    "plt.title('Relatio between Age and Cholesterol')\n",
    "sns.lineplot(f_45['age_group'],f_45.cholesterol)\n",
    "plt.show()"
   ]
  },
  {
   "cell_type": "markdown",
   "id": "0ca3746e",
   "metadata": {},
   "source": [
    "# <h4>\n",
    "*61-70 age group patients have high cholesterol level\n",
    "</h4>"
   ]
  },
  {
   "cell_type": "code",
   "execution_count": null,
   "id": "a9056c38",
   "metadata": {},
   "outputs": [],
   "source": [
    "plt.title('Relatio between Age and active')\n",
    "sns.lineplot(f_45['age_group'],f_45.active)\n",
    "plt.show()"
   ]
  },
  {
   "cell_type": "markdown",
   "id": "2aefa680",
   "metadata": {},
   "source": [
    "# <h4>\n",
    "*51-60 age group people are more physically active in the female category</h4>"
   ]
  },
  {
   "cell_type": "code",
   "execution_count": null,
   "id": "c131583f",
   "metadata": {},
   "outputs": [],
   "source": [
    "plt.title('Relatio between Age and Alcohol')\n",
    "sns.lineplot(f_45['age_group'],f_45.alco)\n",
    "plt.show()"
   ]
  },
  {
   "cell_type": "markdown",
   "id": "f691839c",
   "metadata": {},
   "source": [
    "# <h4>\n",
    "* 41-50 age group patients are drinking more alcohol\n",
    "</h4>"
   ]
  },
  {
   "cell_type": "code",
   "execution_count": null,
   "id": "1689528e",
   "metadata": {},
   "outputs": [],
   "source": []
  },
  {
   "cell_type": "code",
   "execution_count": null,
   "id": "f9a0bd9f",
   "metadata": {},
   "outputs": [],
   "source": [
    "plt.title('Relatio between Age and Smoke')\n",
    "sns.lineplot(f_45['age_group'],f_45.smoke)\n",
    "plt.show()"
   ]
  },
  {
   "cell_type": "markdown",
   "id": "cae5093a",
   "metadata": {},
   "source": [
    "# <h4>\n",
    "*41-50 age group patients are doing more smoking</h4>"
   ]
  },
  {
   "cell_type": "markdown",
   "id": "04ca3254",
   "metadata": {},
   "source": [
    "# <h4>\n",
    "*Conclusion for Female Category:\n",
    "1. 41-50 age group female  patients hobe high BP\n",
    "2. 61-70 age group patients have high cholesterol level\n",
    "3. 51-60 age group people are more physically active in the female category\n",
    "4. 41-50 age group patients are drinking more alcohol\n",
    "5. 41-50 age group patients are doing more smoking  \n",
    "</h4>"
   ]
  },
  {
   "cell_type": "code",
   "execution_count": null,
   "id": "c12e388c",
   "metadata": {},
   "outputs": [],
   "source": []
  },
  {
   "cell_type": "markdown",
   "id": "aa390151",
   "metadata": {},
   "source": [
    "# <h3>\n",
    "<b>\n",
    "Q. Make the groups of height and weight:<br>\n",
    "Find which category has the highest percentage of cardiac disease patients? Also find the insights of important factors.<br>\n",
    "a. short height and less weight <br>\n",
    "b. big height and more weight<br>\n",
    "c. short height and more weight <br>\n",
    "d. big height and less weight\n",
    "</b>\n",
    "</h3>"
   ]
  },
  {
   "cell_type": "markdown",
   "id": "44cf1710",
   "metadata": {},
   "source": [
    "# <h5>a. short height and less weight</h5>"
   ]
  },
  {
   "cell_type": "code",
   "execution_count": null,
   "id": "66e47d95",
   "metadata": {},
   "outputs": [],
   "source": [
    "shlw=cardio_df[(cardio_df['height']<cardio_df['height'].mean()) & (cardio_df['weight']<cardio_df['weight'].mean())]"
   ]
  },
  {
   "cell_type": "code",
   "execution_count": null,
   "id": "3504446d",
   "metadata": {},
   "outputs": [],
   "source": [
    "shlw.head()"
   ]
  },
  {
   "cell_type": "code",
   "execution_count": null,
   "id": "634497dc",
   "metadata": {},
   "outputs": [],
   "source": [
    "shlw.value_counts('cardio')"
   ]
  },
  {
   "cell_type": "code",
   "execution_count": null,
   "id": "0b123162",
   "metadata": {},
   "outputs": [],
   "source": [
    "#in this group 10819 have cardiac patients"
   ]
  },
  {
   "cell_type": "code",
   "execution_count": null,
   "id": "d89168b8",
   "metadata": {},
   "outputs": [],
   "source": [
    "#age_group wise cardiac patients\n",
    "# shlw.value_counts('age_group')\n",
    "plt.title('Cardiac Patients on Age Group')\n",
    "p=sns.countplot(shlw.age_group)\n",
    "for i in p.containers:\n",
    "    plt.bar_label(i)\n",
    "plt.show()"
   ]
  },
  {
   "cell_type": "code",
   "execution_count": null,
   "id": "5e2a00ee",
   "metadata": {},
   "outputs": [],
   "source": [
    "plt.figure(figsize=(10,6))\n",
    "plt.title('Age Group wise Cardiac Patients')\n",
    "shlw.value_counts('age_group').plot(kind='pie',autopct='%0.1f%%')\n",
    "plt.show()"
   ]
  },
  {
   "cell_type": "code",
   "execution_count": null,
   "id": "5b822774",
   "metadata": {},
   "outputs": [],
   "source": [
    "plt.title('Patient Count based on Cholesterol Level')\n",
    "p=sns.countplot(shlw.cholesterol)\n",
    "for i in p.containers:\n",
    "    plt.bar_label(i)\n",
    "plt.show()"
   ]
  },
  {
   "cell_type": "code",
   "execution_count": null,
   "id": "77e23739",
   "metadata": {},
   "outputs": [],
   "source": [
    "sns.lineplot(shlw.ap_hi,shlw.weight)\n",
    "plt.show()"
   ]
  },
  {
   "cell_type": "code",
   "execution_count": null,
   "id": "bfba084a",
   "metadata": {},
   "outputs": [],
   "source": [
    "plt.title('Physically Active Patients')\n",
    "p=sns.countplot(shlw.active)\n",
    "for i in p.containers:\n",
    "    plt.bar_label(i,padding=-15)\n",
    "plt.show()"
   ]
  },
  {
   "cell_type": "code",
   "execution_count": null,
   "id": "2f719517",
   "metadata": {},
   "outputs": [],
   "source": []
  },
  {
   "cell_type": "code",
   "execution_count": null,
   "id": "b93d2411",
   "metadata": {
    "scrolled": false
   },
   "outputs": [],
   "source": [
    "plt.title('Patients with Smoking')\n",
    "p=sns.countplot(shlw.smoke)\n",
    "for i in p.containers:\n",
    "    plt.bar_label(i)\n",
    "plt.show()"
   ]
  },
  {
   "cell_type": "code",
   "execution_count": null,
   "id": "d1036f95",
   "metadata": {},
   "outputs": [],
   "source": [
    "plt.title('Patients with Alcohol Drinking')\n",
    "p=sns.countplot(shlw.alco)\n",
    "for i in p.containers:\n",
    "    plt.bar_label(i)\n",
    "plt.show()"
   ]
  },
  {
   "cell_type": "markdown",
   "id": "4f98f78e",
   "metadata": {},
   "source": [
    "# <h4>\n",
    "-  10819 are cardiac patients\n",
    "-  51-60 age group are the more affected cardiac then 61-70 age group\n",
    "-  8710 are physically active and 2109 are not active\n",
    "\n",
    "\n",
    "</h4>"
   ]
  },
  {
   "cell_type": "code",
   "execution_count": null,
   "id": "dde70000",
   "metadata": {},
   "outputs": [],
   "source": []
  },
  {
   "cell_type": "markdown",
   "id": "480dac9d",
   "metadata": {},
   "source": [
    "# <h5>b. big height and more weight </h5>"
   ]
  },
  {
   "cell_type": "code",
   "execution_count": null,
   "id": "c1aa76b9",
   "metadata": {},
   "outputs": [],
   "source": [
    "bhmw=cardio_df[(cardio_df['height']>cardio_df['height'].mean()) & (cardio_df['weight']<cardio_df['weight'].mean())]"
   ]
  },
  {
   "cell_type": "code",
   "execution_count": null,
   "id": "32f9226f",
   "metadata": {},
   "outputs": [],
   "source": [
    "bhmw.head()"
   ]
  },
  {
   "cell_type": "code",
   "execution_count": null,
   "id": "fd194310",
   "metadata": {},
   "outputs": [],
   "source": [
    "bhmw.value_counts('cardio')"
   ]
  },
  {
   "cell_type": "code",
   "execution_count": null,
   "id": "ec196781",
   "metadata": {},
   "outputs": [],
   "source": [
    "# bhmw.value_counts('age_group')\n",
    "plt.title('Cardiac Patients on Age Group')\n",
    "p=sns.countplot(bhmw.age_group)\n",
    "for i in p.containers:\n",
    "    plt.bar_label(i)\n",
    "plt.show()"
   ]
  },
  {
   "cell_type": "code",
   "execution_count": null,
   "id": "73da0eb5",
   "metadata": {},
   "outputs": [],
   "source": [
    "plt.figure(figsize=(10,6))\n",
    "plt.title('Age Group wise Cardiac Patients')\n",
    "bhmw.value_counts('age_group').plot(kind='pie',autopct='%0.1f%%')\n",
    "plt.show()"
   ]
  },
  {
   "cell_type": "code",
   "execution_count": null,
   "id": "86735711",
   "metadata": {},
   "outputs": [],
   "source": [
    "plt.title('Patient Count based on Cholesterol Level')\n",
    "p=sns.countplot(bhmw.cholesterol)\n",
    "for i in p.containers:\n",
    "    plt.bar_label(i)\n",
    "plt.show()"
   ]
  },
  {
   "cell_type": "code",
   "execution_count": null,
   "id": "59a9b9fe",
   "metadata": {},
   "outputs": [],
   "source": [
    "sns.lineplot(bhmw.ap_hi,bhmw.weight)\n",
    "plt.show()"
   ]
  },
  {
   "cell_type": "code",
   "execution_count": null,
   "id": "34cdbf2c",
   "metadata": {},
   "outputs": [],
   "source": [
    "plt.title('Physically Active Patients')\n",
    "p=sns.countplot(bhmw.active)\n",
    "for i in p.containers:\n",
    "    plt.bar_label(i,padding=-15)\n",
    "plt.show()"
   ]
  },
  {
   "cell_type": "code",
   "execution_count": null,
   "id": "03fdf96a",
   "metadata": {},
   "outputs": [],
   "source": []
  },
  {
   "cell_type": "code",
   "execution_count": null,
   "id": "bb3b9564",
   "metadata": {},
   "outputs": [],
   "source": [
    "plt.title('Patients with Smoking')\n",
    "p=sns.countplot(bhmw.smoke)\n",
    "for i in p.containers:\n",
    "    plt.bar_label(i)\n",
    "plt.show()"
   ]
  },
  {
   "cell_type": "code",
   "execution_count": null,
   "id": "dfa5e90f",
   "metadata": {},
   "outputs": [],
   "source": [
    "plt.title('Patients with Alcohol Drinking')\n",
    "p=sns.countplot(bhmw.alco)\n",
    "for i in p.containers:\n",
    "    plt.bar_label(i)\n",
    "plt.show()"
   ]
  },
  {
   "cell_type": "markdown",
   "id": "c7c5c505",
   "metadata": {},
   "source": [
    "# <h4>\n",
    "- 8551 cardiac patients\n",
    "- 51-6- age group are more affected by cardiac disorders and then 41-50 age group\n",
    "- 6423 patients with level 1 cholesterol\n",
    "- 6660 patients are physically active\n",
    "- only 855 patients are smoking\n",
    "\n",
    "</h4>"
   ]
  },
  {
   "cell_type": "code",
   "execution_count": null,
   "id": "d77ce28f",
   "metadata": {},
   "outputs": [],
   "source": []
  },
  {
   "cell_type": "markdown",
   "id": "6690872a",
   "metadata": {},
   "source": [
    "# <h5>c. short height and more weight</h5>"
   ]
  },
  {
   "cell_type": "code",
   "execution_count": null,
   "id": "dc18929f",
   "metadata": {},
   "outputs": [],
   "source": [
    "shmw=cardio_df[(cardio_df['height']<cardio_df['height'].mean()) & (cardio_df['weight']>cardio_df['weight'].mean())]"
   ]
  },
  {
   "cell_type": "code",
   "execution_count": null,
   "id": "1c59c094",
   "metadata": {},
   "outputs": [],
   "source": [
    "shmw.head()"
   ]
  },
  {
   "cell_type": "code",
   "execution_count": null,
   "id": "5e437d63",
   "metadata": {},
   "outputs": [],
   "source": [
    "shmw.value_counts('cardio')"
   ]
  },
  {
   "cell_type": "code",
   "execution_count": null,
   "id": "5b08dc39",
   "metadata": {},
   "outputs": [],
   "source": [
    "# shmw.value_counts('age_group')\n",
    "plt.title('Cardiac Patients on Age Group')\n",
    "p=sns.countplot(shmw.age_group)\n",
    "for i in p.containers:\n",
    "    plt.bar_label(i)\n",
    "plt.show()"
   ]
  },
  {
   "cell_type": "code",
   "execution_count": null,
   "id": "56bddb6b",
   "metadata": {},
   "outputs": [],
   "source": [
    "plt.figure(figsize=(10,6))\n",
    "plt.title('Age Group wise Cardiac Patients')\n",
    "shmw.value_counts('age_group').plot(kind='pie',autopct='%0.1f%%')\n",
    "plt.show()"
   ]
  },
  {
   "cell_type": "code",
   "execution_count": null,
   "id": "add5e428",
   "metadata": {},
   "outputs": [],
   "source": [
    "plt.title('Patient Count based on Cholesterol Level')\n",
    "p=sns.countplot(shmw.cholesterol)\n",
    "for i in p.containers:\n",
    "    plt.bar_label(i)\n",
    "plt.show()"
   ]
  },
  {
   "cell_type": "code",
   "execution_count": null,
   "id": "9e36acf9",
   "metadata": {},
   "outputs": [],
   "source": [
    "plt.title('Physically Active Patients')\n",
    "p=sns.countplot(shmw.active)\n",
    "for i in p.containers:\n",
    "    plt.bar_label(i,padding=-15)\n",
    "plt.show()"
   ]
  },
  {
   "cell_type": "code",
   "execution_count": null,
   "id": "87dffae5",
   "metadata": {},
   "outputs": [],
   "source": [
    "sns.lineplot(shmw.ap_hi,shmw.weight)\n",
    "plt.show()"
   ]
  },
  {
   "cell_type": "code",
   "execution_count": null,
   "id": "d2ac34f6",
   "metadata": {},
   "outputs": [],
   "source": []
  },
  {
   "cell_type": "code",
   "execution_count": null,
   "id": "f5086692",
   "metadata": {},
   "outputs": [],
   "source": [
    "plt.title('Patients with Smoking')\n",
    "p=sns.countplot(shmw.smoke)\n",
    "for i in p.containers:\n",
    "    plt.bar_label(i)\n",
    "plt.show()"
   ]
  },
  {
   "cell_type": "code",
   "execution_count": null,
   "id": "9f4abd98",
   "metadata": {},
   "outputs": [],
   "source": []
  },
  {
   "cell_type": "code",
   "execution_count": null,
   "id": "23535d67",
   "metadata": {},
   "outputs": [],
   "source": [
    "plt.title('Patients with Alcohol Drinking')\n",
    "p=sns.countplot(shmw.alco)\n",
    "for i in p.containers:\n",
    "    plt.bar_label(i)\n",
    "plt.show()"
   ]
  },
  {
   "cell_type": "markdown",
   "id": "95d76246",
   "metadata": {},
   "source": [
    "# <h4>\n",
    "- 6633 are cardiac patients\n",
    "- 51-60 age group are more affected and then the other group\n",
    "- 3761 patients have cholesterol level 1\n",
    "- 5208 patients are physically active and only 1425 are not active\n",
    "- only 238 patients are smoking\n",
    "</h4>"
   ]
  },
  {
   "cell_type": "code",
   "execution_count": null,
   "id": "3715dff0",
   "metadata": {},
   "outputs": [],
   "source": []
  },
  {
   "cell_type": "markdown",
   "id": "eb8c2362",
   "metadata": {},
   "source": [
    "# <h5>d. big height and less weight</h5>"
   ]
  },
  {
   "cell_type": "code",
   "execution_count": null,
   "id": "702974a3",
   "metadata": {},
   "outputs": [],
   "source": [
    "bhlw=cardio_df[(cardio_df['height']>cardio_df['height'].mean()) & (cardio_df['weight']<cardio_df['weight'].mean())]"
   ]
  },
  {
   "cell_type": "code",
   "execution_count": null,
   "id": "d495429a",
   "metadata": {},
   "outputs": [],
   "source": [
    "bhlw.head()"
   ]
  },
  {
   "cell_type": "code",
   "execution_count": null,
   "id": "d460add6",
   "metadata": {
    "scrolled": false
   },
   "outputs": [],
   "source": [
    "bhlw.value_counts('cardio')"
   ]
  },
  {
   "cell_type": "code",
   "execution_count": null,
   "id": "b9762ce3",
   "metadata": {},
   "outputs": [],
   "source": [
    "#using bar plot\n",
    "plt.title('Cardiac Patients on Age Group')\n",
    "p=sns.countplot(bhlw.age_group)\n",
    "for i in p.containers:\n",
    "    plt.bar_label(i)\n",
    "plt.show()"
   ]
  },
  {
   "cell_type": "code",
   "execution_count": null,
   "id": "fb3afe33",
   "metadata": {},
   "outputs": [],
   "source": [
    "plt.figure(figsize=(10,6))\n",
    "plt.title('Age Group wise Cardiac Patients')\n",
    "bhlw.value_counts('age_group').plot(kind='pie',autopct='%0.1f%%')\n",
    "plt.show()"
   ]
  },
  {
   "cell_type": "code",
   "execution_count": null,
   "id": "00a12c44",
   "metadata": {},
   "outputs": [],
   "source": [
    "plt.title('Patient Count based on Cholesterol Level')\n",
    "p=sns.countplot(bhlw.cholesterol)\n",
    "for i in p.containers:\n",
    "    plt.bar_label(i)\n",
    "plt.show()"
   ]
  },
  {
   "cell_type": "code",
   "execution_count": null,
   "id": "73a2ac6e",
   "metadata": {},
   "outputs": [],
   "source": [
    "sns.lineplot(bhlw.ap_hi,bhlw.weight)\n",
    "plt.show()"
   ]
  },
  {
   "cell_type": "code",
   "execution_count": null,
   "id": "32875c2d",
   "metadata": {},
   "outputs": [],
   "source": [
    "plt.title('Physically Active Patients')\n",
    "p=sns.countplot(bhlw.active)\n",
    "for i in p.containers:\n",
    "    plt.bar_label(i,padding=-15)\n",
    "plt.show()"
   ]
  },
  {
   "cell_type": "code",
   "execution_count": null,
   "id": "8d611c08",
   "metadata": {},
   "outputs": [],
   "source": []
  },
  {
   "cell_type": "code",
   "execution_count": null,
   "id": "74ddee75",
   "metadata": {},
   "outputs": [],
   "source": [
    "plt.title('Patients with Smoking')\n",
    "p=sns.countplot(bhlw.smoke)\n",
    "for i in p.containers:\n",
    "    plt.bar_label(i)\n",
    "plt.show()"
   ]
  },
  {
   "cell_type": "code",
   "execution_count": null,
   "id": "8e710faa",
   "metadata": {},
   "outputs": [],
   "source": []
  },
  {
   "cell_type": "code",
   "execution_count": null,
   "id": "0a29ee74",
   "metadata": {
    "scrolled": false
   },
   "outputs": [],
   "source": [
    "plt.title('Patients with Alcohol Drinking')\n",
    "p=sns.countplot(bhlw.alco)\n",
    "for i in p.containers:\n",
    "    plt.bar_label(i)\n",
    "plt.show()"
   ]
  },
  {
   "cell_type": "markdown",
   "id": "dda3709f",
   "metadata": {},
   "source": [
    "# <h4>\n",
    "- 8551 are cardiac patients\n",
    "- 51-60 age group are more affected and then 41-50 age group\n",
    "- 6423 patients with cholesterol level 1\n",
    "- 6660 are physically active and 1891 are not active\n",
    "- 855 patients are smoking\n",
    "</h4>"
   ]
  },
  {
   "cell_type": "markdown",
   "id": "3d11fb86",
   "metadata": {},
   "source": [
    "# <h4>\n",
    "*Conclusion:\n",
    "1. In group 'short height and less weight' has higher cardiac patients\n",
    "2. In every group 51-60 age group has maximum cardiac patients, \n",
    "    then  41-50 age group, \n",
    "    and then 61-70 age group\n",
    "3. 31-40 age group has the lowest cardiac patients\n",
    "4. All groups, most of the patients physically active\n",
    "5. Very few patients drinks alcohol\n",
    "6. Also very few people are smoking\n",
    "</h4>"
   ]
  },
  {
   "cell_type": "code",
   "execution_count": null,
   "id": "702f7df3",
   "metadata": {},
   "outputs": [],
   "source": [
    "cardio_df.head()"
   ]
  },
  {
   "cell_type": "code",
   "execution_count": null,
   "id": "e32d7f4a",
   "metadata": {},
   "outputs": [],
   "source": []
  },
  {
   "cell_type": "code",
   "execution_count": null,
   "id": "7c2f6f77",
   "metadata": {},
   "outputs": [],
   "source": []
  },
  {
   "cell_type": "markdown",
   "id": "4a98c36e",
   "metadata": {},
   "source": [
    "# \n",
    "<h4><b>\n",
    "Univariate Analysis\n",
    "</b></h4>"
   ]
  },
  {
   "cell_type": "code",
   "execution_count": 49,
   "id": "e29cd4e7",
   "metadata": {},
   "outputs": [
    {
     "data": {
      "text/plain": [
       "0    1\n",
       "dtype: int64"
      ]
     },
     "execution_count": 49,
     "metadata": {},
     "output_type": "execute_result"
    }
   ],
   "source": [
    "df['cholesterol'].mode()"
   ]
  },
  {
   "cell_type": "code",
   "execution_count": null,
   "id": "5ae04f47",
   "metadata": {},
   "outputs": [],
   "source": [
    "plt.figure(figsize=(8,5))\n",
    "plt.title(\"Histogram of Height\")\n",
    "sns.histplot(cardio_df.height,bins=15)\n",
    "plt.show()"
   ]
  },
  {
   "cell_type": "markdown",
   "id": "15eb8563",
   "metadata": {},
   "source": [
    "# <h4>\n",
    "* Most of  the patients have the height between 155 – 180\n",
    "</h4>"
   ]
  },
  {
   "cell_type": "code",
   "execution_count": null,
   "id": "b466fcbc",
   "metadata": {},
   "outputs": [],
   "source": [
    "plt.figure(figsize=(8,5))\n",
    "plt.title(\"Histogram of Weight\")\n",
    "sns.histplot(cardio_df.weight,bins=15)\n",
    "plt.show()"
   ]
  },
  {
   "cell_type": "markdown",
   "id": "94acf582",
   "metadata": {},
   "source": [
    "# <h4>\n",
    "* Most of the patients Weight in between 55 – 80\n",
    "</h4>"
   ]
  },
  {
   "cell_type": "code",
   "execution_count": null,
   "id": "24e9d898",
   "metadata": {},
   "outputs": [],
   "source": [
    "cardio_df.value_counts(cardio_df.cholesterol)"
   ]
  },
  {
   "cell_type": "code",
   "execution_count": null,
   "id": "3247a1fb",
   "metadata": {},
   "outputs": [],
   "source": [
    "cardio_df.value_counts(cardio_df.smoke)"
   ]
  },
  {
   "cell_type": "code",
   "execution_count": null,
   "id": "df974757",
   "metadata": {},
   "outputs": [],
   "source": [
    "cardio_df.value_counts(cardio_df.alco)"
   ]
  },
  {
   "cell_type": "code",
   "execution_count": null,
   "id": "eb4c1f77",
   "metadata": {},
   "outputs": [],
   "source": [
    "cardio_df.value_counts(cardio_df.active)"
   ]
  },
  {
   "cell_type": "code",
   "execution_count": null,
   "id": "cd87385f",
   "metadata": {},
   "outputs": [],
   "source": [
    "cardio_df.value_counts(cardio_df.gluc)"
   ]
  },
  {
   "cell_type": "markdown",
   "id": "dd837cac",
   "metadata": {},
   "source": [
    "# <h4>\n",
    "<b>Bivariate Analysis</b>\n",
    "</h4>"
   ]
  },
  {
   "cell_type": "code",
   "execution_count": null,
   "id": "2ee7e85e",
   "metadata": {},
   "outputs": [],
   "source": [
    "plt.figure(figsize=(10,6))\n",
    "plt.title(\"Relation between Age Group and Height\")\n",
    "sns.lineplot(cardio_df.age_group,cardio_df.height)\n",
    "plt.show()"
   ]
  },
  {
   "cell_type": "code",
   "execution_count": null,
   "id": "ecc36196",
   "metadata": {},
   "outputs": [],
   "source": [
    "plt.figure(figsize=(10,6))\n",
    "plt.title(\"Relation between Age Group and Weight\")\n",
    "sns.lineplot(cardio_df.age_group,cardio_df.weight)\n",
    "plt.show()"
   ]
  },
  {
   "cell_type": "code",
   "execution_count": null,
   "id": "67bc2642",
   "metadata": {},
   "outputs": [],
   "source": [
    "plt.figure(figsize=(10,6))\n",
    "plt.title(\"Relation between Age Group and High BP\")\n",
    "sns.lineplot(cardio_df.age_group,cardio_df.ap_hi)\n",
    "plt.show()"
   ]
  },
  {
   "cell_type": "code",
   "execution_count": null,
   "id": "a4a2ac03",
   "metadata": {},
   "outputs": [],
   "source": [
    "plt.figure(figsize=(10,6))\n",
    "plt.title(\"Relation between Age Group and Low BP\")\n",
    "sns.lineplot(cardio_df.age_group,cardio_df.ap_lo)\n",
    "plt.show()"
   ]
  },
  {
   "cell_type": "code",
   "execution_count": null,
   "id": "fc99488a",
   "metadata": {},
   "outputs": [],
   "source": [
    "plt.figure(figsize=(10,6))\n",
    "plt.title(\"Relation between Age Group and Cholesterol\")\n",
    "sns.lineplot(cardio_df.age_group,cardio_df.cholesterol)\n",
    "plt.show()"
   ]
  },
  {
   "cell_type": "code",
   "execution_count": null,
   "id": "aa144761",
   "metadata": {},
   "outputs": [],
   "source": [
    "plt.figure(figsize=(10,6))\n",
    "plt.title(\"Relation between Age Group and Glucose\")\n",
    "sns.lineplot(cardio_df.age_group,cardio_df.gluc)\n",
    "plt.show()"
   ]
  },
  {
   "cell_type": "markdown",
   "id": "aa82597b",
   "metadata": {},
   "source": [
    "# <h3><center>Non Cardiac Disorders Patients Data Analysis</center></h3>\n"
   ]
  },
  {
   "cell_type": "code",
   "execution_count": 15,
   "id": "6bea07a1",
   "metadata": {},
   "outputs": [],
   "source": [
    "ndf=df[df['cardio']==0]"
   ]
  },
  {
   "cell_type": "code",
   "execution_count": 16,
   "id": "1d3e81a4",
   "metadata": {},
   "outputs": [
    {
     "data": {
      "text/html": [
       "<div>\n",
       "<style scoped>\n",
       "    .dataframe tbody tr th:only-of-type {\n",
       "        vertical-align: middle;\n",
       "    }\n",
       "\n",
       "    .dataframe tbody tr th {\n",
       "        vertical-align: top;\n",
       "    }\n",
       "\n",
       "    .dataframe thead th {\n",
       "        text-align: right;\n",
       "    }\n",
       "</style>\n",
       "<table border=\"1\" class=\"dataframe\">\n",
       "  <thead>\n",
       "    <tr style=\"text-align: right;\">\n",
       "      <th></th>\n",
       "      <th>id</th>\n",
       "      <th>age</th>\n",
       "      <th>gender</th>\n",
       "      <th>height</th>\n",
       "      <th>weight</th>\n",
       "      <th>ap_hi</th>\n",
       "      <th>ap_lo</th>\n",
       "      <th>cholesterol</th>\n",
       "      <th>gluc</th>\n",
       "      <th>smoke</th>\n",
       "      <th>alco</th>\n",
       "      <th>active</th>\n",
       "      <th>cardio</th>\n",
       "      <th>age(in year)</th>\n",
       "    </tr>\n",
       "  </thead>\n",
       "  <tbody>\n",
       "    <tr>\n",
       "      <th>0</th>\n",
       "      <td>0</td>\n",
       "      <td>18393</td>\n",
       "      <td>2</td>\n",
       "      <td>168</td>\n",
       "      <td>62.0</td>\n",
       "      <td>110</td>\n",
       "      <td>80</td>\n",
       "      <td>1</td>\n",
       "      <td>1</td>\n",
       "      <td>0</td>\n",
       "      <td>0</td>\n",
       "      <td>1</td>\n",
       "      <td>0</td>\n",
       "      <td>50</td>\n",
       "    </tr>\n",
       "    <tr>\n",
       "      <th>4</th>\n",
       "      <td>4</td>\n",
       "      <td>17474</td>\n",
       "      <td>1</td>\n",
       "      <td>156</td>\n",
       "      <td>56.0</td>\n",
       "      <td>100</td>\n",
       "      <td>60</td>\n",
       "      <td>1</td>\n",
       "      <td>1</td>\n",
       "      <td>0</td>\n",
       "      <td>0</td>\n",
       "      <td>0</td>\n",
       "      <td>0</td>\n",
       "      <td>48</td>\n",
       "    </tr>\n",
       "    <tr>\n",
       "      <th>5</th>\n",
       "      <td>8</td>\n",
       "      <td>21914</td>\n",
       "      <td>1</td>\n",
       "      <td>151</td>\n",
       "      <td>67.0</td>\n",
       "      <td>120</td>\n",
       "      <td>80</td>\n",
       "      <td>2</td>\n",
       "      <td>2</td>\n",
       "      <td>0</td>\n",
       "      <td>0</td>\n",
       "      <td>0</td>\n",
       "      <td>0</td>\n",
       "      <td>60</td>\n",
       "    </tr>\n",
       "    <tr>\n",
       "      <th>6</th>\n",
       "      <td>9</td>\n",
       "      <td>22113</td>\n",
       "      <td>1</td>\n",
       "      <td>157</td>\n",
       "      <td>93.0</td>\n",
       "      <td>130</td>\n",
       "      <td>80</td>\n",
       "      <td>3</td>\n",
       "      <td>1</td>\n",
       "      <td>0</td>\n",
       "      <td>0</td>\n",
       "      <td>1</td>\n",
       "      <td>0</td>\n",
       "      <td>61</td>\n",
       "    </tr>\n",
       "    <tr>\n",
       "      <th>8</th>\n",
       "      <td>13</td>\n",
       "      <td>17668</td>\n",
       "      <td>1</td>\n",
       "      <td>158</td>\n",
       "      <td>71.0</td>\n",
       "      <td>110</td>\n",
       "      <td>70</td>\n",
       "      <td>1</td>\n",
       "      <td>1</td>\n",
       "      <td>0</td>\n",
       "      <td>0</td>\n",
       "      <td>1</td>\n",
       "      <td>0</td>\n",
       "      <td>48</td>\n",
       "    </tr>\n",
       "  </tbody>\n",
       "</table>\n",
       "</div>"
      ],
      "text/plain": [
       "   id    age  gender  height  weight  ap_hi  ap_lo  cholesterol  gluc  smoke  \\\n",
       "0   0  18393       2     168    62.0    110     80            1     1      0   \n",
       "4   4  17474       1     156    56.0    100     60            1     1      0   \n",
       "5   8  21914       1     151    67.0    120     80            2     2      0   \n",
       "6   9  22113       1     157    93.0    130     80            3     1      0   \n",
       "8  13  17668       1     158    71.0    110     70            1     1      0   \n",
       "\n",
       "   alco  active  cardio  age(in year)  \n",
       "0     0       1       0            50  \n",
       "4     0       0       0            48  \n",
       "5     0       0       0            60  \n",
       "6     0       1       0            61  \n",
       "8     0       1       0            48  "
      ]
     },
     "execution_count": 16,
     "metadata": {},
     "output_type": "execute_result"
    }
   ],
   "source": [
    "ndf.head()"
   ]
  },
  {
   "cell_type": "code",
   "execution_count": 17,
   "id": "0ae4b233",
   "metadata": {},
   "outputs": [
    {
     "data": {
      "text/plain": [
       "164.44801690414323"
      ]
     },
     "execution_count": 17,
     "metadata": {},
     "output_type": "execute_result"
    }
   ],
   "source": [
    "ndf['height'].mean()"
   ]
  },
  {
   "cell_type": "code",
   "execution_count": null,
   "id": "11c3c18f",
   "metadata": {},
   "outputs": [],
   "source": []
  },
  {
   "cell_type": "code",
   "execution_count": null,
   "id": "c310b9fc",
   "metadata": {},
   "outputs": [],
   "source": []
  },
  {
   "cell_type": "code",
   "execution_count": null,
   "id": "2bd9879f",
   "metadata": {},
   "outputs": [],
   "source": []
  },
  {
   "cell_type": "code",
   "execution_count": null,
   "id": "06feb937",
   "metadata": {},
   "outputs": [],
   "source": []
  },
  {
   "cell_type": "code",
   "execution_count": null,
   "id": "a31d9be7",
   "metadata": {},
   "outputs": [],
   "source": [
    "len(ndf)"
   ]
  },
  {
   "cell_type": "code",
   "execution_count": null,
   "id": "d21332cb",
   "metadata": {},
   "outputs": [],
   "source": [
    "ndf.value_counts('cholesterol')"
   ]
  },
  {
   "cell_type": "code",
   "execution_count": null,
   "id": "8be3f0c3",
   "metadata": {},
   "outputs": [],
   "source": [
    "ndf.value_counts('gluc')"
   ]
  },
  {
   "cell_type": "code",
   "execution_count": null,
   "id": "51456a17",
   "metadata": {},
   "outputs": [],
   "source": [
    "ndf.value_counts('smoke')"
   ]
  },
  {
   "cell_type": "code",
   "execution_count": null,
   "id": "0c8a6934",
   "metadata": {},
   "outputs": [],
   "source": [
    "ndf.value_counts('alco')"
   ]
  },
  {
   "cell_type": "code",
   "execution_count": null,
   "id": "a95f0f42",
   "metadata": {},
   "outputs": [],
   "source": [
    "ndf.value_counts('active')"
   ]
  },
  {
   "cell_type": "markdown",
   "id": "627497b5",
   "metadata": {},
   "source": [
    "# <h4>Univariate Analysis</h4>"
   ]
  },
  {
   "cell_type": "code",
   "execution_count": null,
   "id": "bc0ce14d",
   "metadata": {},
   "outputs": [],
   "source": [
    "plt.figure(figsize=(10,6))\n",
    "plt.title('Height Plot using Histogram',fontsize='12')\n",
    "sns.histplot(ndf.height,bins=15)\n",
    "plt.show()"
   ]
  },
  {
   "cell_type": "markdown",
   "id": "9619d088",
   "metadata": {},
   "source": [
    "# <h4>\n",
    "* Maximum number of patients have height between 160 and 180\n",
    "</h4>"
   ]
  },
  {
   "cell_type": "code",
   "execution_count": null,
   "id": "22f7861f",
   "metadata": {},
   "outputs": [],
   "source": [
    "plt.figure(figsize=(10,6))\n",
    "plt.title('Outliers checking of Height')\n",
    "sns.boxplot(ndf.height)\n",
    "plt.show()"
   ]
  },
  {
   "cell_type": "markdown",
   "id": "1199b70d",
   "metadata": {},
   "source": []
  },
  {
   "cell_type": "code",
   "execution_count": null,
   "id": "e28801a5",
   "metadata": {},
   "outputs": [],
   "source": [
    "plt.figure(figsize=(10,6))\n",
    "plt.title('Weight Plot using Histogram',fontsize='12')\n",
    "sns.histplot(ndf.weight,bins=15)\n",
    "plt.show()"
   ]
  },
  {
   "cell_type": "markdown",
   "id": "72fc964c",
   "metadata": {},
   "source": [
    "# <h4>\n",
    "* Maximum number of patients have weight between 60 and 80\n",
    "</h4>"
   ]
  },
  {
   "cell_type": "code",
   "execution_count": null,
   "id": "8583705b",
   "metadata": {},
   "outputs": [],
   "source": []
  },
  {
   "cell_type": "code",
   "execution_count": null,
   "id": "70203ae6",
   "metadata": {},
   "outputs": [],
   "source": [
    "plt.figure(figsize=(10,6))\n",
    "plt.title('Outliers Checking of Weight',fontsize='12')\n",
    "sns.boxplot(ndf.weight)\n",
    "plt.show()"
   ]
  },
  {
   "cell_type": "code",
   "execution_count": null,
   "id": "b4888be6",
   "metadata": {},
   "outputs": [],
   "source": []
  },
  {
   "cell_type": "code",
   "execution_count": null,
   "id": "647898ec",
   "metadata": {},
   "outputs": [],
   "source": [
    "plt.figure(figsize=(10,6))\n",
    "plt.title('Distribution of High BP')\n",
    "sns.distplot(ndf.ap_hi)\n",
    "plt.show()"
   ]
  },
  {
   "cell_type": "code",
   "execution_count": null,
   "id": "fd68d449",
   "metadata": {},
   "outputs": [],
   "source": []
  },
  {
   "cell_type": "code",
   "execution_count": null,
   "id": "6fd2ca05",
   "metadata": {},
   "outputs": [],
   "source": [
    "plt.figure(figsize=(10,6))\n",
    "plt.title('Outlier detection of High BP')\n",
    "sns.boxplot(ndf.ap_hi)\n",
    "plt.show()"
   ]
  },
  {
   "cell_type": "code",
   "execution_count": null,
   "id": "379c27d8",
   "metadata": {},
   "outputs": [],
   "source": []
  },
  {
   "cell_type": "code",
   "execution_count": null,
   "id": "909a6030",
   "metadata": {},
   "outputs": [],
   "source": [
    "plt.figure(figsize=(10,6))\n",
    "plt.title('Distribution of Low BP')\n",
    "sns.distplot(ndf.ap_lo)\n",
    "plt.show()"
   ]
  },
  {
   "cell_type": "code",
   "execution_count": 50,
   "id": "aecf2807",
   "metadata": {},
   "outputs": [
    {
     "name": "stderr",
     "output_type": "stream",
     "text": [
      "C:\\Users\\Biswajit\\anaconda3\\lib\\site-packages\\seaborn\\_decorators.py:36: FutureWarning: Pass the following variable as a keyword arg: x. From version 0.12, the only valid positional argument will be `data`, and passing other arguments without an explicit keyword will result in an error or misinterpretation.\n",
      "  warnings.warn(\n"
     ]
    },
    {
     "data": {
      "image/png": "[encoded data removed]",
      "text/plain": [
       "<Figure size 432x288 with 1 Axes>"
      ]
     },
     "metadata": {
      "needs_background": "light"
     },
     "output_type": "display_data"
    }
   ],
   "source": [
    "plt.title('Outlier detection of Low BP')\n",
    "sns.boxplot(ndf.ap_lo)\n",
    "plt.show()"
   ]
  },
  {
   "cell_type": "code",
   "execution_count": null,
   "id": "6ee3235f",
   "metadata": {},
   "outputs": [],
   "source": [
    "ndf.head()"
   ]
  },
  {
   "cell_type": "code",
   "execution_count": null,
   "id": "3b73df36",
   "metadata": {},
   "outputs": [],
   "source": []
  },
  {
   "cell_type": "markdown",
   "id": "91e28fac",
   "metadata": {},
   "source": [
    "# <h4>Bivariate Analysis</h4>"
   ]
  },
  {
   "cell_type": "code",
   "execution_count": null,
   "id": "8d6a432c",
   "metadata": {},
   "outputs": [],
   "source": [
    "plt.figure(figsize=(10,6))\n",
    "plt.title('Relation between Age and Height')\n",
    "sns.lineplot(ndf['age(in year)'],ndf['height'])\n",
    "plt.show()"
   ]
  },
  {
   "cell_type": "code",
   "execution_count": null,
   "id": "ca08b627",
   "metadata": {},
   "outputs": [],
   "source": [
    "plt.figure(figsize=(10,6))\n",
    "plt.title('Relation between Age and weight')\n",
    "sns.lineplot(ndf['age(in year)'],ndf['weight'])\n",
    "plt.show()"
   ]
  },
  {
   "cell_type": "code",
   "execution_count": null,
   "id": "677dd09c",
   "metadata": {},
   "outputs": [],
   "source": [
    "ndf.head()"
   ]
  },
  {
   "cell_type": "code",
   "execution_count": null,
   "id": "5786f53a",
   "metadata": {
    "scrolled": false
   },
   "outputs": [],
   "source": [
    "plt.figure(figsize=(10,6))\n",
    "plt.title(\"Relation between Age and Low BP\")\n",
    "sns.lineplot(ndf['age(in year)'],ndf['ap_lo'])\n",
    "plt.show()"
   ]
  },
  {
   "cell_type": "code",
   "execution_count": null,
   "id": "ba1a9cbf",
   "metadata": {},
   "outputs": [],
   "source": [
    "plt.figure(figsize=(10,6))\n",
    "plt.title(\"Relation between Age and High BP\")\n",
    "sns.lineplot(ndf['age(in year)'],ndf['ap_hi'])\n",
    "plt.show()"
   ]
  },
  {
   "cell_type": "code",
   "execution_count": null,
   "id": "51865bcb",
   "metadata": {},
   "outputs": [],
   "source": [
    "plt.figure(figsize=(10,6))\n",
    "plt.title(\"Relation between Age and Cholesterol\")\n",
    "sns.lineplot(ndf['age(in year)'],ndf['cholesterol'])\n",
    "plt.show()"
   ]
  },
  {
   "cell_type": "code",
   "execution_count": null,
   "id": "a83ff116",
   "metadata": {},
   "outputs": [],
   "source": [
    "plt.figure(figsize=(10,6))\n",
    "plt.title(\"Relation between Age and Glucose\")\n",
    "sns.lineplot(ndf['age(in year)'],ndf['gluc'])\n",
    "plt.show()"
   ]
  },
  {
   "cell_type": "code",
   "execution_count": null,
   "id": "cb821b8f",
   "metadata": {},
   "outputs": [],
   "source": []
  },
  {
   "cell_type": "code",
   "execution_count": null,
   "id": "a6fc5120",
   "metadata": {},
   "outputs": [],
   "source": [
    "ndf.head()"
   ]
  },
  {
   "cell_type": "code",
   "execution_count": null,
   "id": "438eabd2",
   "metadata": {},
   "outputs": [],
   "source": [
    "plt.figure(figsize=(10,6))\n",
    "plt.title(\"Relation between Age Group and Weight\")\n",
    "sns.lineplot(ndf.age_group,ndf.weight)\n",
    "plt.show()"
   ]
  },
  {
   "cell_type": "code",
   "execution_count": null,
   "id": "26969076",
   "metadata": {},
   "outputs": [],
   "source": []
  },
  {
   "cell_type": "code",
   "execution_count": null,
   "id": "07b8cbfc",
   "metadata": {},
   "outputs": [],
   "source": [
    "plt.figure(figsize=(10,6))\n",
    "plt.title(\"Relation between Age Group and Smoking Trends\")\n",
    "sns.lineplot(ndf.age_group,ndf.smoke)\n",
    "plt.show()"
   ]
  },
  {
   "cell_type": "markdown",
   "id": "b2508b3e",
   "metadata": {},
   "source": [
    "# <h4>\n",
    "* 31-40 age groups are more smoking than other the groups\n",
    "</h4>"
   ]
  },
  {
   "cell_type": "code",
   "execution_count": null,
   "id": "4c7bab8e",
   "metadata": {},
   "outputs": [],
   "source": [
    "plt.figure(figsize=(10,6))\n",
    "plt.title(\"Relation between Age Group and Physically Active\")\n",
    "sns.lineplot(ndf.age_group,ndf.active)\n",
    "plt.show()"
   ]
  },
  {
   "cell_type": "markdown",
   "id": "86cceeb2",
   "metadata": {},
   "source": [
    "# <h4>\n",
    "* 21-30 age group patients are more physically active compare to other group.\n",
    "</h4>"
   ]
  },
  {
   "cell_type": "code",
   "execution_count": null,
   "id": "c60e8a39",
   "metadata": {},
   "outputs": [],
   "source": [
    "plt.figure(figsize=(10,6))\n",
    "plt.title(\"Relation between Age Group and High BP\")\n",
    "sns.lineplot(ndf.age_group,ndf.ap_hi)\n",
    "plt.show()"
   ]
  },
  {
   "cell_type": "markdown",
   "id": "0ac6d9d8",
   "metadata": {},
   "source": [
    "# <h4>\n",
    "* 61-70 age group has higher Blood Pressure than other groups.\n",
    "</h4>"
   ]
  },
  {
   "cell_type": "code",
   "execution_count": null,
   "id": "ae12709a",
   "metadata": {},
   "outputs": [],
   "source": []
  },
  {
   "cell_type": "markdown",
   "id": "fbec7fbf",
   "metadata": {},
   "source": [
    "# <center>End</center>"
   ]
  }
 ],
 "metadata": {
  "kernelspec": {
   "display_name": "Python 3 (ipykernel)",
   "language": "python",
   "name": "python3"
  },
  "language_info": {
   "codemirror_mode": {
    "name": "ipython",
    "version": 3
   },
   "file_extension": ".py",
   "mimetype": "text/x-python",
   "name": "python",
   "nbconvert_exporter": "python",
   "pygments_lexer": "ipython3",
   "version": "3.9.7"
  }
 },
 "nbformat": 4,
 "nbformat_minor": 5
}
